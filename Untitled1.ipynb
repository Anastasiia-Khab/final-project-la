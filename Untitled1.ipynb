{
 "cells": [
  {
   "cell_type": "code",
   "execution_count": 1,
   "metadata": {},
   "outputs": [],
   "source": [
    "import pandas as pd\n",
    "import numpy as np\n",
    "import networkx as nx\n",
    "import os\n",
    "from PIL import Image\n",
    "import matplotlib.pyplot as plt\n",
    "%matplotlib inline\n"
   ]
  },
  {
   "cell_type": "markdown",
   "metadata": {},
   "source": [
    "https://scikit-learn.org/stable/auto_examples/cluster/plot_cluster_comparison.html#sphx-glr-auto-examples-cluster-plot-cluster-comparison-py\n",
    "\n",
    "https://people.maths.ox.ac.uk/porterm/papers/conglong.pdf\n",
    "\n",
    "https://www.pnas.org/content/102/20/7057\n",
    "\n",
    "https://www.sciencedirect.com/science/article/pii/S0378437107007844?via%3Dihub"
   ]
  },
  {
   "cell_type": "code",
   "execution_count": 2,
   "metadata": {},
   "outputs": [
    {
     "name": "stderr",
     "output_type": "stream",
     "text": [
      "/home/user/.pyenv/versions/3.5.6/lib/python3.5/site-packages/IPython/core/interactiveshell.py:2785: DtypeWarning: Columns (0) have mixed types. Specify dtype option on import or set low_memory=False.\n",
      "  interactivity=interactivity, compiler=compiler, result=result)\n"
     ]
    }
   ],
   "source": [
    "edges = pd.read_table(\"./all_withoutnull.csv\",index_col=0, encoding=\"utf-8\",sep=',')\n",
    "#edges"
   ]
  },
  {
   "cell_type": "markdown",
   "metadata": {},
   "source": [
    "##### Партії :\n",
    "<img src=\"2.png\" align=\"center\"  alt=\"Drawing\" />"
   ]
  },
  {
   "cell_type": "code",
   "execution_count": 3,
   "metadata": {},
   "outputs": [
    {
     "data": {
      "text/plain": [
       "[2, 2, 2, 2, 2, 2, 2, 2, 1, 8]"
      ]
     },
     "execution_count": 3,
     "metadata": {},
     "output_type": "execute_result"
    }
   ],
   "source": [
    "#list(edges.loc['abscd', : ])\n",
    "list(edges.loc['abscd', : ])[0:10]"
   ]
  },
  {
   "cell_type": "code",
   "execution_count": 4,
   "metadata": {},
   "outputs": [
    {
     "data": {
      "text/plain": [
       "True"
      ]
     },
     "execution_count": 4,
     "metadata": {},
     "output_type": "execute_result"
    }
   ],
   "source": [
    "deputies=edges.columns.values\n",
    "deputies_fractions=list(edges.loc['abscd', : ])\n",
    "len(deputies)==len(deputies_fractions)"
   ]
  },
  {
   "cell_type": "code",
   "execution_count": 5,
   "metadata": {},
   "outputs": [
    {
     "data": {
      "text/plain": [
       "name    Порошенко Олексій Петрович\n",
       "Name: 3, dtype: object"
      ]
     },
     "execution_count": 5,
     "metadata": {},
     "output_type": "execute_result"
    }
   ],
   "source": [
    "deputies_names = pd.read_table(\"./plenary_deputies-skl8.csv\",index_col=0, encoding=\"utf-8\",sep=',')\n",
    "deputies_names=deputies_names.drop(['sex'], axis=1)\n",
    "deputies_names.loc[3]"
   ]
  },
  {
   "cell_type": "code",
   "execution_count": 6,
   "metadata": {},
   "outputs": [],
   "source": [
    "#abscd is the column which has information about fraction of each particular deputy\n",
    "edges=edges.drop(['abscd'])"
   ]
  },
  {
   "cell_type": "code",
   "execution_count": 7,
   "metadata": {},
   "outputs": [
    {
     "data": {
      "text/html": [
       "<div>\n",
       "<style scoped>\n",
       "    .dataframe tbody tr th:only-of-type {\n",
       "        vertical-align: middle;\n",
       "    }\n",
       "\n",
       "    .dataframe tbody tr th {\n",
       "        vertical-align: top;\n",
       "    }\n",
       "\n",
       "    .dataframe thead th {\n",
       "        text-align: right;\n",
       "    }\n",
       "</style>\n",
       "<table border=\"1\" class=\"dataframe\">\n",
       "  <thead>\n",
       "    <tr style=\"text-align: right;\">\n",
       "      <th></th>\n",
       "      <th>2</th>\n",
       "      <th>3</th>\n",
       "      <th>4</th>\n",
       "      <th>5</th>\n",
       "      <th>6</th>\n",
       "      <th>7</th>\n",
       "      <th>8</th>\n",
       "      <th>9</th>\n",
       "      <th>10</th>\n",
       "      <th>11</th>\n",
       "      <th>...</th>\n",
       "      <th>478</th>\n",
       "      <th>479</th>\n",
       "      <th>480</th>\n",
       "      <th>481</th>\n",
       "      <th>482</th>\n",
       "      <th>483</th>\n",
       "      <th>484</th>\n",
       "      <th>485</th>\n",
       "      <th>486</th>\n",
       "      <th>487</th>\n",
       "    </tr>\n",
       "    <tr>\n",
       "      <th>id_event</th>\n",
       "      <th></th>\n",
       "      <th></th>\n",
       "      <th></th>\n",
       "      <th></th>\n",
       "      <th></th>\n",
       "      <th></th>\n",
       "      <th></th>\n",
       "      <th></th>\n",
       "      <th></th>\n",
       "      <th></th>\n",
       "      <th></th>\n",
       "      <th></th>\n",
       "      <th></th>\n",
       "      <th></th>\n",
       "      <th></th>\n",
       "      <th></th>\n",
       "      <th></th>\n",
       "      <th></th>\n",
       "      <th></th>\n",
       "      <th></th>\n",
       "      <th></th>\n",
       "    </tr>\n",
       "  </thead>\n",
       "  <tbody>\n",
       "    <tr>\n",
       "      <th>21429</th>\n",
       "      <td>3</td>\n",
       "      <td>4</td>\n",
       "      <td>4</td>\n",
       "      <td>4</td>\n",
       "      <td>1</td>\n",
       "      <td>4</td>\n",
       "      <td>4</td>\n",
       "      <td>4</td>\n",
       "      <td>4</td>\n",
       "      <td>4</td>\n",
       "      <td>...</td>\n",
       "      <td>4</td>\n",
       "      <td>4</td>\n",
       "      <td>3</td>\n",
       "      <td>4</td>\n",
       "      <td>4</td>\n",
       "      <td>4</td>\n",
       "      <td>0</td>\n",
       "      <td>4</td>\n",
       "      <td>4</td>\n",
       "      <td>3</td>\n",
       "    </tr>\n",
       "    <tr>\n",
       "      <th>21430</th>\n",
       "      <td>4</td>\n",
       "      <td>4</td>\n",
       "      <td>4</td>\n",
       "      <td>4</td>\n",
       "      <td>1</td>\n",
       "      <td>4</td>\n",
       "      <td>4</td>\n",
       "      <td>4</td>\n",
       "      <td>4</td>\n",
       "      <td>4</td>\n",
       "      <td>...</td>\n",
       "      <td>4</td>\n",
       "      <td>4</td>\n",
       "      <td>3</td>\n",
       "      <td>4</td>\n",
       "      <td>4</td>\n",
       "      <td>4</td>\n",
       "      <td>0</td>\n",
       "      <td>4</td>\n",
       "      <td>3</td>\n",
       "      <td>3</td>\n",
       "    </tr>\n",
       "    <tr>\n",
       "      <th>21431</th>\n",
       "      <td>1</td>\n",
       "      <td>4</td>\n",
       "      <td>1</td>\n",
       "      <td>3</td>\n",
       "      <td>3</td>\n",
       "      <td>4</td>\n",
       "      <td>1</td>\n",
       "      <td>4</td>\n",
       "      <td>4</td>\n",
       "      <td>0</td>\n",
       "      <td>...</td>\n",
       "      <td>4</td>\n",
       "      <td>1</td>\n",
       "      <td>1</td>\n",
       "      <td>1</td>\n",
       "      <td>1</td>\n",
       "      <td>1</td>\n",
       "      <td>0</td>\n",
       "      <td>1</td>\n",
       "      <td>1</td>\n",
       "      <td>1</td>\n",
       "    </tr>\n",
       "    <tr>\n",
       "      <th>21432</th>\n",
       "      <td>1</td>\n",
       "      <td>4</td>\n",
       "      <td>1</td>\n",
       "      <td>1</td>\n",
       "      <td>3</td>\n",
       "      <td>4</td>\n",
       "      <td>1</td>\n",
       "      <td>4</td>\n",
       "      <td>1</td>\n",
       "      <td>0</td>\n",
       "      <td>...</td>\n",
       "      <td>4</td>\n",
       "      <td>1</td>\n",
       "      <td>1</td>\n",
       "      <td>1</td>\n",
       "      <td>1</td>\n",
       "      <td>1</td>\n",
       "      <td>0</td>\n",
       "      <td>1</td>\n",
       "      <td>1</td>\n",
       "      <td>3</td>\n",
       "    </tr>\n",
       "    <tr>\n",
       "      <th>21433</th>\n",
       "      <td>1</td>\n",
       "      <td>4</td>\n",
       "      <td>1</td>\n",
       "      <td>1</td>\n",
       "      <td>3</td>\n",
       "      <td>1</td>\n",
       "      <td>1</td>\n",
       "      <td>4</td>\n",
       "      <td>1</td>\n",
       "      <td>0</td>\n",
       "      <td>...</td>\n",
       "      <td>4</td>\n",
       "      <td>1</td>\n",
       "      <td>1</td>\n",
       "      <td>1</td>\n",
       "      <td>1</td>\n",
       "      <td>1</td>\n",
       "      <td>0</td>\n",
       "      <td>1</td>\n",
       "      <td>1</td>\n",
       "      <td>1</td>\n",
       "    </tr>\n",
       "    <tr>\n",
       "      <th>21434</th>\n",
       "      <td>1</td>\n",
       "      <td>4</td>\n",
       "      <td>1</td>\n",
       "      <td>1</td>\n",
       "      <td>3</td>\n",
       "      <td>1</td>\n",
       "      <td>4</td>\n",
       "      <td>4</td>\n",
       "      <td>1</td>\n",
       "      <td>0</td>\n",
       "      <td>...</td>\n",
       "      <td>1</td>\n",
       "      <td>1</td>\n",
       "      <td>1</td>\n",
       "      <td>1</td>\n",
       "      <td>1</td>\n",
       "      <td>1</td>\n",
       "      <td>0</td>\n",
       "      <td>1</td>\n",
       "      <td>1</td>\n",
       "      <td>3</td>\n",
       "    </tr>\n",
       "    <tr>\n",
       "      <th>21435</th>\n",
       "      <td>4</td>\n",
       "      <td>4</td>\n",
       "      <td>1</td>\n",
       "      <td>1</td>\n",
       "      <td>3</td>\n",
       "      <td>1</td>\n",
       "      <td>4</td>\n",
       "      <td>4</td>\n",
       "      <td>1</td>\n",
       "      <td>0</td>\n",
       "      <td>...</td>\n",
       "      <td>1</td>\n",
       "      <td>1</td>\n",
       "      <td>1</td>\n",
       "      <td>1</td>\n",
       "      <td>4</td>\n",
       "      <td>1</td>\n",
       "      <td>0</td>\n",
       "      <td>4</td>\n",
       "      <td>1</td>\n",
       "      <td>1</td>\n",
       "    </tr>\n",
       "    <tr>\n",
       "      <th>21436</th>\n",
       "      <td>1</td>\n",
       "      <td>4</td>\n",
       "      <td>1</td>\n",
       "      <td>1</td>\n",
       "      <td>1</td>\n",
       "      <td>1</td>\n",
       "      <td>1</td>\n",
       "      <td>4</td>\n",
       "      <td>1</td>\n",
       "      <td>0</td>\n",
       "      <td>...</td>\n",
       "      <td>1</td>\n",
       "      <td>1</td>\n",
       "      <td>1</td>\n",
       "      <td>1</td>\n",
       "      <td>1</td>\n",
       "      <td>1</td>\n",
       "      <td>0</td>\n",
       "      <td>1</td>\n",
       "      <td>1</td>\n",
       "      <td>1</td>\n",
       "    </tr>\n",
       "    <tr>\n",
       "      <th>21437</th>\n",
       "      <td>1</td>\n",
       "      <td>4</td>\n",
       "      <td>1</td>\n",
       "      <td>4</td>\n",
       "      <td>3</td>\n",
       "      <td>4</td>\n",
       "      <td>4</td>\n",
       "      <td>4</td>\n",
       "      <td>1</td>\n",
       "      <td>0</td>\n",
       "      <td>...</td>\n",
       "      <td>1</td>\n",
       "      <td>1</td>\n",
       "      <td>1</td>\n",
       "      <td>1</td>\n",
       "      <td>1</td>\n",
       "      <td>1</td>\n",
       "      <td>0</td>\n",
       "      <td>1</td>\n",
       "      <td>1</td>\n",
       "      <td>4</td>\n",
       "    </tr>\n",
       "    <tr>\n",
       "      <th>21438</th>\n",
       "      <td>1</td>\n",
       "      <td>1</td>\n",
       "      <td>4</td>\n",
       "      <td>1</td>\n",
       "      <td>1</td>\n",
       "      <td>1</td>\n",
       "      <td>1</td>\n",
       "      <td>4</td>\n",
       "      <td>1</td>\n",
       "      <td>0</td>\n",
       "      <td>...</td>\n",
       "      <td>1</td>\n",
       "      <td>1</td>\n",
       "      <td>1</td>\n",
       "      <td>1</td>\n",
       "      <td>4</td>\n",
       "      <td>1</td>\n",
       "      <td>0</td>\n",
       "      <td>4</td>\n",
       "      <td>1</td>\n",
       "      <td>1</td>\n",
       "    </tr>\n",
       "  </tbody>\n",
       "</table>\n",
       "<p>10 rows × 467 columns</p>\n",
       "</div>"
      ],
      "text/plain": [
       "          2  3  4  5  6  7  8  9  10  11 ...   478  479  480  481  482  483  \\\n",
       "id_event                                 ...                                  \n",
       "21429     3  4  4  4  1  4  4  4   4   4 ...     4    4    3    4    4    4   \n",
       "21430     4  4  4  4  1  4  4  4   4   4 ...     4    4    3    4    4    4   \n",
       "21431     1  4  1  3  3  4  1  4   4   0 ...     4    1    1    1    1    1   \n",
       "21432     1  4  1  1  3  4  1  4   1   0 ...     4    1    1    1    1    1   \n",
       "21433     1  4  1  1  3  1  1  4   1   0 ...     4    1    1    1    1    1   \n",
       "21434     1  4  1  1  3  1  4  4   1   0 ...     1    1    1    1    1    1   \n",
       "21435     4  4  1  1  3  1  4  4   1   0 ...     1    1    1    1    4    1   \n",
       "21436     1  4  1  1  1  1  1  4   1   0 ...     1    1    1    1    1    1   \n",
       "21437     1  4  1  4  3  4  4  4   1   0 ...     1    1    1    1    1    1   \n",
       "21438     1  1  4  1  1  1  1  4   1   0 ...     1    1    1    1    4    1   \n",
       "\n",
       "          484  485  486  487  \n",
       "id_event                      \n",
       "21429       0    4    4    3  \n",
       "21430       0    4    3    3  \n",
       "21431       0    1    1    1  \n",
       "21432       0    1    1    3  \n",
       "21433       0    1    1    1  \n",
       "21434       0    1    1    3  \n",
       "21435       0    4    1    1  \n",
       "21436       0    1    1    1  \n",
       "21437       0    1    1    4  \n",
       "21438       0    4    1    1  \n",
       "\n",
       "[10 rows x 467 columns]"
      ]
     },
     "execution_count": 7,
     "metadata": {},
     "output_type": "execute_result"
    }
   ],
   "source": [
    "edges[0:10]\n",
    "#edges"
   ]
  },
  {
   "cell_type": "code",
   "execution_count": 8,
   "metadata": {},
   "outputs": [
    {
     "name": "stdout",
     "output_type": "stream",
     "text": [
      "(15556, 467)\n",
      "[[0 0 0 ... 0 0 0]\n",
      " [0 0 0 ... 0 0 0]\n",
      " [1 0 1 ... 1 1 1]\n",
      " ...\n",
      " [1 1 1 ... 0 0 0]\n",
      " [1 1 1 ... 0 0 0]\n",
      " [1 1 1 ... 0 0 0]]\n"
     ]
    }
   ],
   "source": [
    "df=edges.values\n",
    "print(df.shape)\n",
    "for i in range(15556):\n",
    "    for j in range(467):\n",
    "        if (df[i][j]==2):\n",
    "           df[i][j]=-1\n",
    "        elif df[i][j]==1:\n",
    "           df[i][j]=1\n",
    "        else: df[i][j]=0\n",
    "print(df)"
   ]
  },
  {
   "cell_type": "code",
   "execution_count": 9,
   "metadata": {},
   "outputs": [
    {
     "data": {
      "text/plain": [
       "(467, 15556)"
      ]
     },
     "execution_count": 9,
     "metadata": {},
     "output_type": "execute_result"
    }
   ],
   "source": [
    "df2=np.transpose(df)\n",
    "df2.shape"
   ]
  },
  {
   "cell_type": "markdown",
   "metadata": {},
   "source": [
    "## SVD\n",
    "\n",
    "https://nbviewer.jupyter.org/github/fastai/numerical-linear-algebra/blob/master/nbs/2.%20Topic%20Modeling%20with%20NMF%20and%20SVD.ipynb\n",
    "\n",
    "https://docs.scipy.org/doc/numpy-1.15.1/reference/generated/numpy.linalg.svd.html\n",
    "\n",
    "https://www.hindawi.com/journals/cin/2016/1096271/\n",
    "\n",
    "just svd and Data Compression :http://andrew.gibiansky.com/blog/mathematics/cool-linear-algebra-singular-value-decomposition/\n",
    "\n",
    "\n"
   ]
  },
  {
   "cell_type": "code",
   "execution_count": 10,
   "metadata": {},
   "outputs": [
    {
     "name": "stdout",
     "output_type": "stream",
     "text": [
      "After compression: \n"
     ]
    }
   ],
   "source": [
    "print(\"After compression: \")\n",
    "U, S, Vt = np.linalg.svd(df2, full_matrices=False) #single value decomposition\n",
    "sizes = []\n",
    "k = (1, 2, 5, 10, 20, 50, 60, 80, 500, 960)\n",
    "frobenius_dist=[]"
   ]
  },
  {
   "cell_type": "code",
   "execution_count": 11,
   "metadata": {},
   "outputs": [
    {
     "name": "stdout",
     "output_type": "stream",
     "text": [
      "(467, 15556) (467, 467) (467,) (467, 15556)\n"
     ]
    }
   ],
   "source": [
    "print(df2.shape, U.shape, S.shape, Vt.shape)"
   ]
  },
  {
   "cell_type": "code",
   "execution_count": 12,
   "metadata": {},
   "outputs": [
    {
     "data": {
      "text/plain": [
       "[<matplotlib.lines.Line2D at 0x7fe0ac59f828>]"
      ]
     },
     "execution_count": 12,
     "metadata": {},
     "output_type": "execute_result"
    },
    {
     "data": {
      "image/png": "[encoded data removed]",
      "text/plain": [
       "<Figure size 432x288 with 1 Axes>"
      ]
     },
     "metadata": {
      "needs_background": "light"
     },
     "output_type": "display_data"
    }
   ],
   "source": [
    "plt.plot(S)"
   ]
  },
  {
   "cell_type": "code",
   "execution_count": 13,
   "metadata": {},
   "outputs": [
    {
     "data": {
      "text/plain": [
       "[<matplotlib.lines.Line2D at 0x7fe0ac507b70>]"
      ]
     },
     "execution_count": 13,
     "metadata": {},
     "output_type": "execute_result"
    },
    {
     "data": {
      "image/png": "[encoded data removed]",
      "text/plain": [
       "<Figure size 432x288 with 1 Axes>"
      ]
     },
     "metadata": {
      "needs_background": "light"
     },
     "output_type": "display_data"
    }
   ],
   "source": [
    "plt.plot(S/sum(S))"
   ]
  },
  {
   "cell_type": "code",
   "execution_count": 14,
   "metadata": {},
   "outputs": [
    {
     "data": {
      "text/plain": [
       "[<matplotlib.lines.Line2D at 0x7fe0ac4c6940>]"
      ]
     },
     "execution_count": 14,
     "metadata": {},
     "output_type": "execute_result"
    },
    {
     "data": {
      "image/png": "[encoded data removed]",
      "text/plain": [
       "<Figure size 432x288 with 1 Axes>"
      ]
     },
     "metadata": {
      "needs_background": "light"
     },
     "output_type": "display_data"
    }
   ],
   "source": [
    "plt.plot(S[:10])"
   ]
  },
  {
   "cell_type": "code",
   "execution_count": 15,
   "metadata": {},
   "outputs": [
    {
     "name": "stdout",
     "output_type": "stream",
     "text": [
      "[0.05669192 0.01391838 0.01125741 0.00976212 0.00827893 0.00701024\n",
      " 0.00626542 0.00570239 0.0055968  0.00505656 0.00493456 0.00483198\n",
      " 0.00467234 0.00438458 0.00427035 0.00409018 0.00395431 0.00393598\n",
      " 0.00386141 0.00383565 0.00369257 0.00363863 0.00362645 0.00353669\n",
      " 0.00352469 0.00348749 0.00344692 0.00343865 0.00337904 0.00335065]\n"
     ]
    },
    {
     "data": {
      "text/plain": [
       "'.........'"
      ]
     },
     "execution_count": 15,
     "metadata": {},
     "output_type": "execute_result"
    }
   ],
   "source": [
    "#print(S/sum(S))\n",
    "print((S/sum(S))[0:30])\n",
    "\".........\""
   ]
  },
  {
   "cell_type": "code",
   "execution_count": 16,
   "metadata": {},
   "outputs": [
    {
     "data": {
      "text/plain": [
       "15556"
      ]
     },
     "execution_count": 16,
     "metadata": {},
     "output_type": "execute_result"
    }
   ],
   "source": [
    "len(list(edges.index))\n",
    "#list(edges.columns.values)\n",
    "#list(edges.index)"
   ]
  },
  {
   "cell_type": "code",
   "execution_count": 17,
   "metadata": {},
   "outputs": [],
   "source": [
    "num_top_bills=8\n",
    "\n",
    "def show_clusters(a):\n",
    "    top_bills = lambda t: [list(edges.index)[i] for i in np.argsort(t)[:-num_top_bills-1:-1]]\n",
    "    cluster_bills = ([top_bills(t) for t in a])\n",
    "    return [t for t in cluster_bills]\n",
    "\n"
   ]
  },
  {
   "cell_type": "code",
   "execution_count": 18,
   "metadata": {},
   "outputs": [
    {
     "name": "stdout",
     "output_type": "stream",
     "text": [
      "True\n"
     ]
    }
   ],
   "source": [
    "print(np.allclose(np.identity(U.shape[0]), U.T@U))"
   ]
  },
  {
   "cell_type": "code",
   "execution_count": 19,
   "metadata": {},
   "outputs": [
    {
     "data": {
      "text/plain": [
       "[[1155, 16779, 12701, 12702, 587, 12699, 7864, 3837],\n",
       " [7260, 7259, 16004, 10115, 7258, 10111, 10113, 3462],\n",
       " [221, 84, 85, 925, 117, 296, 1385, 927],\n",
       " [696, 3277, 2933, 3462, 5678, 16012, 16096, 16097],\n",
       " ['21470', '19441', '21467', '21471', '21466', '21463', 994, 231],\n",
       " [10966, '21467', 696, 6027, '18894', 13067, 10709, 6397],\n",
       " [6025, 1450, 2071, 588, 5950, 3191, 2856, 1568],\n",
       " [6943, 6947, 6962, 6942, 6944, 6946, 6945, 6967]]"
      ]
     },
     "execution_count": 19,
     "metadata": {},
     "output_type": "execute_result"
    }
   ],
   "source": [
    "show_clusters(Vt[:8])"
   ]
  },
  {
   "cell_type": "code",
   "execution_count": 20,
   "metadata": {},
   "outputs": [
    {
     "name": "stdout",
     "output_type": "stream",
     "text": [
      "After compression: \n"
     ]
    }
   ],
   "source": [
    "print(\"After compression: \")\n",
    "U2, S2, Vt2 = np.linalg.svd(df, full_matrices=False) #single value decomposition\n",
    "sizes = []\n",
    "k = (1, 2, 5, 10, 20, 50, 60, 80, 500, 960)\n",
    "frobenius_dist=[]"
   ]
  },
  {
   "cell_type": "code",
   "execution_count": 21,
   "metadata": {},
   "outputs": [
    {
     "name": "stdout",
     "output_type": "stream",
     "text": [
      "(15556, 467) (15556, 467) (467,) (467, 467)\n"
     ]
    }
   ],
   "source": [
    "print(df.shape, U2.shape, S2.shape, Vt2.shape)"
   ]
  },
  {
   "cell_type": "code",
   "execution_count": 22,
   "metadata": {},
   "outputs": [
    {
     "data": {
      "text/plain": [
       "[<matplotlib.lines.Line2D at 0x7fe0ac4859b0>]"
      ]
     },
     "execution_count": 22,
     "metadata": {},
     "output_type": "execute_result"
    },
    {
     "data": {
      "image/png": "[encoded data removed]",
      "text/plain": [
       "<Figure size 432x288 with 1 Axes>"
      ]
     },
     "metadata": {
      "needs_background": "light"
     },
     "output_type": "display_data"
    }
   ],
   "source": [
    "plt.plot(S2)"
   ]
  },
  {
   "cell_type": "code",
   "execution_count": 23,
   "metadata": {},
   "outputs": [
    {
     "data": {
      "text/plain": [
       "[<matplotlib.lines.Line2D at 0x7fe0ac4be780>]"
      ]
     },
     "execution_count": 23,
     "metadata": {},
     "output_type": "execute_result"
    },
    {
     "data": {
      "image/png": "[encoded data removed]",
      "text/plain": [
       "<Figure size 432x288 with 1 Axes>"
      ]
     },
     "metadata": {
      "needs_background": "light"
     },
     "output_type": "display_data"
    }
   ],
   "source": [
    "plt.plot(S2[:10])"
   ]
  },
  {
   "cell_type": "code",
   "execution_count": 24,
   "metadata": {},
   "outputs": [],
   "source": [
    "num_top_deps=5\n",
    "\n",
    "def show_clusters_2(a):\n",
    "    top_deps = lambda t: [list(edges.columns.values)[i] for i in np.argsort(t)[:-num_top_deps-1:-1]]\n",
    "    cluster_deps = ([top_deps(t) for t in a])\n",
    "    return [t for t in cluster_deps]\n"
   ]
  },
  {
   "cell_type": "code",
   "execution_count": 25,
   "metadata": {},
   "outputs": [
    {
     "data": {
      "text/plain": [
       "[['398', '182', '191', '187', '249'],\n",
       " ['162', '219', '159', '236', '235'],\n",
       " ['234', '292', '189', '244', '390'],\n",
       " ['349', '36', '392', '337', '410'],\n",
       " ['360', '365', '350', '364', '362'],\n",
       " ['173', '181', '114', '375', '383'],\n",
       " ['64', '271', '63', '118', '71'],\n",
       " ['273', '181', '114', '454', '173']]"
      ]
     },
     "execution_count": 25,
     "metadata": {},
     "output_type": "execute_result"
    }
   ],
   "source": [
    "a = show_clusters_2(Vt2[:8])\n",
    "a"
   ]
  },
  {
   "cell_type": "code",
   "execution_count": 26,
   "metadata": {},
   "outputs": [
    {
     "data": {
      "text/plain": [
       "'Німченко Василь Іванович'"
      ]
     },
     "execution_count": 26,
     "metadata": {},
     "output_type": "execute_result"
    }
   ],
   "source": [
    "deputies_names.loc[int(a[0][0])][0]"
   ]
  },
  {
   "cell_type": "code",
   "execution_count": 27,
   "metadata": {},
   "outputs": [
    {
     "name": "stdout",
     "output_type": "stream",
     "text": [
      "['Німченко Василь Іванович', 'Яценюк Арсеній Петрович', 'Петренко Павло Дмитрович', 'Аваков Арсен Борисович', 'Квіт Сергій Миронович']\n",
      "[4, 1, 1, 1, 2]\n",
      "['Бурбак Максим Юрійович', 'Горбунов Олександр Володимирович', 'Федорук Микола Трохимович', 'Кривенко Вадим Валерійович', 'Кремінь Тарас Дмитрович']\n",
      "[1, 1, 1, 1, 1]\n",
      "['Сторожук Дмитро Анатолійович', 'Кубів Степан Іванович', 'Гриневич Лілія Михайлівна', 'Гройсман Володимир Борисович', 'Кутовий Тарас Вікторович']\n",
      "[1, 2, 1, 0, 2]\n",
      "['Шурма Ігор Михайлович', 'Матвієнков Сергій Анатолійович', 'Мартовицький Артур Володимирович', 'Воропаєв Юрій Миколайович', 'Сажко Сергій Миколайович']\n",
      "[4, 4, 4, 4, 4]\n",
      "['Ленський Олексій Олексійович', 'Кириченко Олексій Миколайович', 'Ляшко Олег Валерійович', 'Купрієнко Олег Васильович', 'Кошелєва Альона Володимирівна']\n",
      "[5, 5, 5, 5, 5]\n",
      "['Іллєнко Андрій Юрійович', 'Левченко Юрій Володимирович', 'Осуховський Олег Іванович', 'Івченко Вадим Євгенович', 'Кириленко Іван Григорович']\n",
      "[0, 0, 0, 6, 6]\n",
      "['Соловей Юрій Ігорович', 'Паламарчук Микола Петрович', 'Тимошенко Юрій Володимирович', 'Євтушок Сергій Миколайович', 'Різаненко Павло Олександрович']\n",
      "[2, 2, 1, 6, 2]\n",
      "['Пацкан Валерій Васильович', 'Левченко Юрій Володимирович', 'Осуховський Олег Іванович', 'Юзькова Тетяна Леонідівна', 'Іллєнко Андрій Юрійович']\n",
      "[2, 0, 0, 5, 0]\n"
     ]
    }
   ],
   "source": [
    "for i in range(8):\n",
    "    print([deputies_names.loc[int(a[i][j])][0] for j in range(num_top_deps)])\n",
    "    print([deputies_fractions[int(np.where(deputies == a[i][j])[0][0])] for j in range(num_top_deps)])"
   ]
  },
  {
   "cell_type": "markdown",
   "metadata": {},
   "source": [
    "якщо кластеризувати закони відносно депутатів, то оцей список депутатів для кожного закону показує найрішаючих депутатів. в даному випадку перші 5 депутатів належать до різних партій"
   ]
  },
  {
   "cell_type": "code",
   "execution_count": 28,
   "metadata": {},
   "outputs": [],
   "source": [
    "from sklearn import decomposition\n",
    "m,n=edges.shape\n",
    "d=11  # num topics"
   ]
  },
  {
   "cell_type": "code",
   "execution_count": 29,
   "metadata": {},
   "outputs": [
    {
     "data": {
      "text/plain": [
       "(467, 15556)"
      ]
     },
     "execution_count": 29,
     "metadata": {},
     "output_type": "execute_result"
    }
   ],
   "source": [
    "for i in range(15556):\n",
    "    for j in range(467):\n",
    "        if (df[i][j]==-1):\n",
    "           df[i][j]=2\n",
    "        #elif df2[i][j]==1:\n",
    "        #   df2[i][j]=1\n",
    "        #else: df2[i][j]=0\n",
    "        \n",
    "df2=np.transpose(df)\n",
    "df2.shape"
   ]
  },
  {
   "cell_type": "code",
   "execution_count": 30,
   "metadata": {},
   "outputs": [
    {
     "data": {
      "text/plain": [
       "array([[-6.34452038e-02,  2.48615290e-02, -1.96113599e-02, ...,\n",
       "        -3.54738573e-05,  2.37313647e-05, -2.39827227e-20],\n",
       "       [-6.97330915e-02,  4.12590926e-02,  7.92514601e-03, ...,\n",
       "         1.33318967e-05,  1.77688676e-05,  1.37449537e-16],\n",
       "       [-6.32582629e-02,  2.62020770e-02, -1.49258121e-02, ...,\n",
       "         1.70090006e-05,  2.26602517e-05,  1.00120030e-16],\n",
       "       ...,\n",
       "       [-1.98113887e-03,  2.46122739e-03, -7.67406618e-03, ...,\n",
       "         1.74246601e-04, -1.19207148e-04,  4.68051962e-17],\n",
       "       [-3.93101324e-03,  8.25667595e-03, -1.98185879e-02, ...,\n",
       "         1.47930612e-04,  2.36654998e-04,  6.63796419e-17],\n",
       "       [-1.20385022e-03,  1.83111947e-03, -4.95992188e-03, ...,\n",
       "         6.13264573e-04, -9.19319527e-05,  5.22225663e-17]])"
      ]
     },
     "execution_count": 30,
     "metadata": {},
     "output_type": "execute_result"
    }
   ],
   "source": [
    "U"
   ]
  },
  {
   "cell_type": "code",
   "execution_count": 31,
   "metadata": {},
   "outputs": [
    {
     "data": {
      "image/png": "[encoded data removed]",
      "text/plain": [
       "<Figure size 432x288 with 1 Axes>"
      ]
     },
     "metadata": {
      "needs_background": "light"
     },
     "output_type": "display_data"
    }
   ],
   "source": [
    "#import seaborn as sns\n",
    "#https://people.maths.ox.ac.uk/porterm/papers/conglong.pdf\n",
    "colors = ['#630C3A', '#39C8C6', '#D3500C', '#FFB139', 'red', 'green', 'blue', 'black', 'gray', 'orange', 'yellow', 'rose']\n",
    "for i in range(len(U)):\n",
    "    x = U[i][0]\n",
    "    y = U[i][1]\n",
    "    plt.scatter(x, y, c=colors[int(deputies_fractions[i])])"
   ]
  },
  {
   "cell_type": "markdown",
   "metadata": {},
   "source": [
    "<img src=\"3.png\" align=\"center\"  alt=\"Drawing\"/>"
   ]
  },
  {
   "cell_type": "code",
   "execution_count": 32,
   "metadata": {},
   "outputs": [
    {
     "data": {
      "text/plain": [
       "467"
      ]
     },
     "execution_count": 32,
     "metadata": {},
     "output_type": "execute_result"
    }
   ],
   "source": [
    "len(U[0])"
   ]
  },
  {
   "cell_type": "code",
   "execution_count": 33,
   "metadata": {},
   "outputs": [
    {
     "data": {
      "image/png": "[encoded data removed]",
      "text/plain": [
       "<Figure size 720x720 with 1 Axes>"
      ]
     },
     "metadata": {
      "needs_background": "light"
     },
     "output_type": "display_data"
    }
   ],
   "source": [
    "from sklearn.manifold import TSNE\n",
    "tsne = TSNE(n_components=2, perplexity=20)\n",
    "points = tsne.fit_transform(df2)\n",
    "fig = plt.figure(figsize=(10,10))\n",
    "for i in range(len(U)):\n",
    "    plt.scatter(y = points[i, 0], x = points[i, 1], c = colors[int(deputies_fractions[i])])\n",
    "plt.show()"
   ]
  },
  {
   "cell_type": "markdown",
   "metadata": {},
   "source": [
    "## NMF\n",
    "https://arxiv.org/pdf/1401.5226.pdf\n",
    "\n",
    "https://journals.plos.org/ploscompbiol/article?id=10.1371/journal.pcbi.1000029"
   ]
  },
  {
   "cell_type": "code",
   "execution_count": 34,
   "metadata": {},
   "outputs": [
    {
     "data": {
      "text/plain": [
       "[[15342, 2406, 1155, 2407, 16779, 4542, 4282, 282],\n",
       " [1155, 58, 1135, 60, 63, 539, 85, 84],\n",
       " [3462, 6048, 14647, 7284, 7973, 3277, 16004, 7260],\n",
       " ['20250', 17398, 17397, '20247', '20323', 17396, 9855, 16610],\n",
       " [1134, 3126, 3462, 3124, 3277, 587, 696, 2831],\n",
       " [15660, 15661, 16098, 16099, '20996', 16095, 16097, '20886'],\n",
       " [3108, 2855, 3122, 2632, 2928, 12173, 2626, 3112],\n",
       " [6909, 6936, 6981, 6917, 6943, 6986, 6916, 6974],\n",
       " [3462, 6048, 4408, 10968, 10967, 226, 3929, 4414],\n",
       " [7864, 13337, 18413, 10628, 13333, 13338, '19942', 18219],\n",
       " ['20542', '19243', '19244', '19241', '19242', '19925', '19245', 14650]]"
      ]
     },
     "execution_count": 34,
     "metadata": {},
     "output_type": "execute_result"
    }
   ],
   "source": [
    "d=11\n",
    "clf = decomposition.NMF(n_components=d, random_state=1)\n",
    "\n",
    "W1 = clf.fit_transform(df2)\n",
    "H1 = clf.components_\n",
    "\n",
    "show_clusters(H1)"
   ]
  },
  {
   "cell_type": "code",
   "execution_count": 35,
   "metadata": {},
   "outputs": [
    {
     "data": {
      "text/plain": [
       "(11, 467)"
      ]
     },
     "execution_count": 35,
     "metadata": {},
     "output_type": "execute_result"
    }
   ],
   "source": [
    "clf = decomposition.NMF(n_components=d, random_state=1)\n",
    "\n",
    "W1 = clf.fit_transform(df)\n",
    "H1 = clf.components_\n",
    "\n",
    "H1.shape"
   ]
  },
  {
   "cell_type": "code",
   "execution_count": 36,
   "metadata": {
    "scrolled": true
   },
   "outputs": [
    {
     "data": {
      "text/plain": [
       "467"
      ]
     },
     "execution_count": 36,
     "metadata": {},
     "output_type": "execute_result"
    }
   ],
   "source": [
    "H1.shape[1]"
   ]
  },
  {
   "cell_type": "code",
   "execution_count": 37,
   "metadata": {},
   "outputs": [
    {
     "data": {
      "text/plain": [
       "10"
      ]
     },
     "execution_count": 37,
     "metadata": {},
     "output_type": "execute_result"
    }
   ],
   "source": [
    "len(H1[:,1])\n",
    "list(H1[:,1]).index(max(H1[:,1]))"
   ]
  },
  {
   "cell_type": "code",
   "execution_count": 38,
   "metadata": {},
   "outputs": [
    {
     "data": {
      "text/plain": [
       "array([0.34881869, 2.83419442, 0.        , 0.39102076, 0.        ,\n",
       "       0.        , 0.15406573, 0.11188409, 0.        , 1.07744737,\n",
       "       3.83485932])"
      ]
     },
     "execution_count": 38,
     "metadata": {},
     "output_type": "execute_result"
    }
   ],
   "source": [
    "H1[:,1]"
   ]
  },
  {
   "cell_type": "code",
   "execution_count": 39,
   "metadata": {},
   "outputs": [],
   "source": [
    "clusters=[list(H1[:,i]).index(max(H1[:,i])) for i in range(H1.shape[1])]\n",
    "\n",
    "for i in range(len(deputies)):\n",
    "    if clusters[i]==10:\n",
    "        clusters[i]=2\n",
    "    elif clusters[i]==2:\n",
    "        clusters[i]=3\n",
    "    elif clusters[i]==5:\n",
    "        clusters[i]=10\n",
    "    elif clusters[i]==4:\n",
    "        clusters[i]=5\n",
    "    elif clusters[i]==3:\n",
    "        clusters[i]=4\n",
    "    elif clusters[i]==8:\n",
    "        clusters[i]=6\n",
    "    elif clusters[i]==6:\n",
    "        clusters[i]=8\n",
    "    elif clusters[i]==0:\n",
    "        clusters[i]=1\n",
    "    elif clusters[i]==1:\n",
    "        clusters[i]=0\n",
    "#for i in range(len(deputies)):\n",
    "    #print(deputies[i],clusters[i], deputies_fractions[i])"
   ]
  },
  {
   "cell_type": "code",
   "execution_count": 40,
   "metadata": {},
   "outputs": [
    {
     "data": {
      "text/plain": [
       "0.0"
      ]
     },
     "execution_count": 40,
     "metadata": {},
     "output_type": "execute_result"
    }
   ],
   "source": [
    "s = (11,11)\n",
    "choises=np.zeros(s)\n",
    "choises[0,0]"
   ]
  },
  {
   "cell_type": "code",
   "execution_count": 41,
   "metadata": {},
   "outputs": [
    {
     "name": "stdout",
     "output_type": "stream",
     "text": [
      "Недава Олег Анатолійович 35\n",
      "Сабашук Петро Павлович 50\n",
      "Кривохатько Вадим Вікторович 58\n",
      "Гарбуз Юрій Григорійович 81\n",
      "Жолобецький Олександр Олександрович 94\n",
      "Корнацький Аркадій Олексійович 97\n",
      "Голубов Дмитро Іванович 100\n",
      "Сугоняко Олександр Леонідович 120\n",
      "Гордєєв Андрій Анатолійович 143\n",
      "Хлань Сергій Володимирович 145\n",
      "Куліч Валерій Петрович 163\n",
      "Третьяков Олександр Юрійович 177\n",
      "Луценко Юрій Віталійович 242\n",
      "Джемілєв Мустафа 245\n",
      "Ковальчук Віталій Анатолійович 248\n",
      "Павленко Ростислав Миколайович 260\n",
      "Матвієнко Анатолій Сергійович 268\n",
      "Пацкан Валерій Васильович 273\n",
      "Тригубенко Сергій Миколайович 281\n",
      "Насіров Роман Михайлович 285\n",
      "Загорій Гліб Володимирович 286\n",
      "Гвоздьов Михайло Олексійович 287\n",
      "Чепинога Віталій Михайлович 289\n",
      "Грановський Олександр Михайлович 291\n",
      "Кубів Степан Іванович 292\n",
      "Климпуш-Цинцадзе Іванна Орестівна 293\n",
      "Нестеренко Вадим Григорович 387\n",
      "Кутовий Тарас Вікторович 390\n",
      "Насалик Ігор Степанович 396\n",
      "Савченко Олексій Юрійович 408\n",
      "Сольвар Руслан Миколайович 412\n",
      "Матіос Марія Василівна 424\n",
      "Барна Степан Степанович 426\n"
     ]
    },
    {
     "data": {
      "image/png": "[encoded data removed]",
      "text/plain": [
       "<Figure size 432x288 with 1 Axes>"
      ]
     },
     "metadata": {
      "needs_background": "light"
     },
     "output_type": "display_data"
    }
   ],
   "source": [
    "for i in range(len(U)):\n",
    "    x = clusters[i]\n",
    "    y = deputies_fractions[i]\n",
    "    choises[x,y]+=1\n",
    "    plt.scatter(x, y, c=colors[int(deputies_fractions[i])])\n",
    "    if (x==0 and y==2):\n",
    "        print(deputies_names.loc[int(edges.columns.values[i])][0],edges.columns.values[i] )\n",
    "    #if int(edges.columns.values[i]) in deputies_udar['number'].values:\n",
    "        #print(\"удар\",edges.columns.values[i],clusters[i])"
   ]
  },
  {
   "cell_type": "code",
   "execution_count": 42,
   "metadata": {},
   "outputs": [
    {
     "name": "stdout",
     "output_type": "stream",
     "text": [
      "[[  9.   7.  33.   1.   0.   4.   1.   2.   0.]\n",
      " [  1.  69.   0.   0.   0.   0.   0.   0.   0.]\n",
      " [  6.   7. 103.   0.   0.   0.   0.   3.   0.]\n",
      " [  5.   0.   2.  25.   0.   0.   0.   0.   0.]\n",
      " [  2.   0.   0.   0.  42.   0.   0.   0.   0.]\n",
      " [  1.   0.   0.   0.   0.  20.   0.   0.   0.]\n",
      " [ 11.   0.   4.   0.   0.   0.  20.   0.   0.]\n",
      " [  1.   3.  12.   1.   0.   0.   0.   1.   0.]\n",
      " [  6.   7.   5.   0.   1.   2.   1.  15.  25.]]\n",
      "<class 'numpy.ndarray'>\n"
     ]
    }
   ],
   "source": [
    "choises_=np.delete(choises, 9, 0)\n",
    "choises_=np.delete(choises_, 7, 0)\n",
    "choises_=np.delete(choises_, 9, 1)\n",
    "choises_=np.delete(choises_, 7, 1)\n",
    "print(choises_)\n",
    "print(type(choises_))"
   ]
  },
  {
   "cell_type": "code",
   "execution_count": 43,
   "metadata": {},
   "outputs": [
    {
     "data": {
      "text/plain": [
       "<matplotlib.axes._subplots.AxesSubplot at 0x7fe098e8c668>"
      ]
     },
     "execution_count": 43,
     "metadata": {},
     "output_type": "execute_result"
    },
    {
     "data": {
      "image/png": "[encoded data removed]",
      "text/plain": [
       "<Figure size 720x504 with 2 Axes>"
      ]
     },
     "metadata": {
      "needs_background": "light"
     },
     "output_type": "display_data"
    }
   ],
   "source": [
    "import seaborn as sn\n",
    "import pandas as pd\n",
    "import matplotlib.pyplot as plt\n",
    "\n",
    "df_cm = pd.DataFrame(choises_, index = ['cluster '+str(i) for i in (range(9))],\n",
    "                  columns = ['fraction '+str(i)+\" \" for i in range(9)])\n",
    "plt.figure(figsize = (10,7))\n",
    "sn.heatmap(df_cm, annot=True)"
   ]
  },
  {
   "cell_type": "markdown",
   "metadata": {},
   "source": [
    "<img src=\"2.png\" align=\"center\"  alt=\"Drawing\" />"
   ]
  },
  {
   "cell_type": "code",
   "execution_count": 44,
   "metadata": {},
   "outputs": [
    {
     "name": "stdout",
     "output_type": "stream",
     "text": [
      "33 відділені від Порошенка\n",
      "Недава Олег Анатолійович 35\n",
      "Сабашук Петро Павлович 50\n",
      "Кривохатько Вадим Вікторович 58\n",
      "Гарбуз Юрій Григорійович 81\n",
      "Жолобецький Олександр Олександрович 94\n",
      "Корнацький Аркадій Олексійович 97\n",
      "Голубов Дмитро Іванович 100\n",
      "Сугоняко Олександр Леонідович 120\n",
      "Гордєєв Андрій Анатолійович 143\n",
      "Хлань Сергій Володимирович 145\n",
      "Куліч Валерій Петрович 163\n",
      "Третьяков Олександр Юрійович 177\n",
      "Луценко Юрій Віталійович 242\n",
      "Джемілєв Мустафа 245\n",
      "Ковальчук Віталій Анатолійович 248\n",
      "Павленко Ростислав Миколайович 260\n",
      "Матвієнко Анатолій Сергійович 268\n",
      "Пацкан Валерій Васильович 273\n",
      "Тригубенко Сергій Миколайович 281\n",
      "Насіров Роман Михайлович 285\n",
      "Загорій Гліб Володимирович 286\n",
      "Гвоздьов Михайло Олексійович 287\n",
      "Чепинога Віталій Михайлович 289\n",
      "Грановський Олександр Михайлович 291\n",
      "Кубів Степан Іванович 292\n",
      "Климпуш-Цинцадзе Іванна Орестівна 293\n",
      "Нестеренко Вадим Григорович 387\n",
      "Кутовий Тарас Вікторович 390\n",
      "Насалик Ігор Степанович 396\n",
      "Савченко Олексій Юрійович 408\n",
      "Сольвар Руслан Миколайович 412\n",
      "Матіос Марія Василівна 424\n",
      "Барна Степан Степанович 426\n"
     ]
    }
   ],
   "source": [
    "deputies_udar = pd.read_table(\"./udar2.csv\",index_col=0, encoding=\"utf-8\",sep=',')\n",
    "#print(deputies_udar)\n",
    "\n",
    "print(\"33 відділені від Порошенка\")\n",
    "for i in range(len(U)):\n",
    "    x = clusters[i]\n",
    "    y = deputies_fractions[i]\n",
    "    if (x==0 and y==2):\n",
    "        print(deputies_names.loc[int(edges.columns.values[i])][0],edges.columns.values[i] )\n",
    "        "
   ]
  },
  {
   "cell_type": "code",
   "execution_count": 45,
   "metadata": {},
   "outputs": [
    {
     "name": "stdout",
     "output_type": "stream",
     "text": [
      "позафракційні як Порошенко\n",
      "Герега Олександр Володимирович 151\n",
      "Геращенко Ірина Володимирівна 247\n",
      "Гопко Ганна Миколаївна 296\n",
      "Савченко Надія Вікторівна 371\n",
      "Констанкевич Ірина Мирославівна 471\n",
      "Шевченко Віктор Леонідович 472\n"
     ]
    }
   ],
   "source": [
    "print(\"позафракційні як Порошенко\")\n",
    "for i in range(len(U)):\n",
    "    x = clusters[i]\n",
    "    y = deputies_fractions[i]\n",
    "    if (x==2 and y==0):\n",
    "        print(deputies_names.loc[int(edges.columns.values[i])][0],edges.columns.values[i] )\n",
    "        "
   ]
  },
  {
   "cell_type": "code",
   "execution_count": 46,
   "metadata": {
    "scrolled": true
   },
   "outputs": [
    {
     "name": "stdout",
     "output_type": "stream",
     "text": [
      "позафракційні як Тимошенко\n",
      "Ярош Дмитро Анатолійович 26\n",
      "Дідич Валентин Володимирович 27\n",
      "Тарута Сергій Олексійович 37\n",
      "Балога Віктор Іванович 45\n",
      "Дерев'янко Юрій Богданович 62\n",
      "Міщенко Сергій Григорович 72\n",
      "Добродомов Дмитро Євгенович 82\n",
      "Матківський Богдан Миронович 86\n",
      "Мусій Олег Степанович 89\n",
      "Береза Борислав Юхимович 171\n",
      "Чумак Віктор Васильович 172\n"
     ]
    }
   ],
   "source": [
    "print(\"позафракційні як Тимошенко\")\n",
    "for i in range(len(U)):\n",
    "    x = clusters[i]\n",
    "    y = deputies_fractions[i]\n",
    "    if (x==6 and y==0):\n",
    "        print(deputies_names.loc[int(edges.columns.values[i])][0],edges.columns.values[i] )"
   ]
  },
  {
   "cell_type": "code",
   "execution_count": 47,
   "metadata": {},
   "outputs": [
    {
     "name": "stdout",
     "output_type": "stream",
     "text": [
      "0.8622152172114952\n"
     ]
    }
   ],
   "source": [
    "correct=0\n",
    "for i in range(len(U)):\n",
    "    for j in range(len(U)):\n",
    "        if (clusters[i]==clusters[j] and deputies_fractions[i]==deputies_fractions[j]):\n",
    "            correct+=1\n",
    "        if (clusters[i]!=clusters[j] and deputies_fractions[i]!=deputies_fractions[j]):\n",
    "            correct+=1\n",
    "print(correct/(len(U)*(len(U)-1)))"
   ]
  },
  {
   "cell_type": "markdown",
   "metadata": {},
   "source": [
    "## NMF for 9 fractions"
   ]
  },
  {
   "cell_type": "code",
   "execution_count": 48,
   "metadata": {},
   "outputs": [
    {
     "data": {
      "text/plain": [
       "(9, 467)"
      ]
     },
     "execution_count": 48,
     "metadata": {},
     "output_type": "execute_result"
    }
   ],
   "source": [
    "clf = decomposition.NMF(n_components=9, random_state=1)\n",
    "\n",
    "W1 = clf.fit_transform(df)\n",
    "H1 = clf.components_\n",
    "\n",
    "H1.shape"
   ]
  },
  {
   "cell_type": "code",
   "execution_count": 49,
   "metadata": {},
   "outputs": [],
   "source": [
    "clusters=[list(H1[:,i]).index(max(H1[:,i])) for i in range(H1.shape[1])]"
   ]
  },
  {
   "cell_type": "code",
   "execution_count": 50,
   "metadata": {},
   "outputs": [],
   "source": [
    "clusters=[list(H1[:,i]).index(max(H1[:,i])) for i in range(H1.shape[1])]\n",
    "for i in range(len(deputies)):\n",
    "    if clusters[i]==0:\n",
    "        clusters[i]=2\n",
    "    elif clusters[i]==2:\n",
    "        clusters[i]=3\n",
    "    elif clusters[i]==3:\n",
    "        clusters[i]=4\n",
    "    elif clusters[i]==4:\n",
    "        clusters[i]=5\n",
    "    elif clusters[i]==5:\n",
    "        clusters[i]=10\n",
    "    elif clusters[i]==10:\n",
    "        clusters[i]=0\n",
    "    elif clusters[i]==8:\n",
    "        clusters[i]=6\n",
    "    elif clusters[i]==6:\n",
    "        clusters[i]=8\n",
    "#for i in range(len(deputies)):\n",
    "#    print(deputies[i],clusters[i], deputies_fractions[i])"
   ]
  },
  {
   "cell_type": "code",
   "execution_count": 51,
   "metadata": {},
   "outputs": [
    {
     "data": {
      "text/plain": [
       "0.0"
      ]
     },
     "execution_count": 51,
     "metadata": {},
     "output_type": "execute_result"
    }
   ],
   "source": [
    "s = (11,11)\n",
    "choises=np.zeros(s)\n",
    "choises[0,0]"
   ]
  },
  {
   "cell_type": "code",
   "execution_count": 52,
   "metadata": {},
   "outputs": [
    {
     "data": {
      "image/png": "[encoded data removed]",
      "text/plain": [
       "<Figure size 432x288 with 1 Axes>"
      ]
     },
     "metadata": {
      "needs_background": "light"
     },
     "output_type": "display_data"
    }
   ],
   "source": [
    "for i in range(len(U)):\n",
    "    x = clusters[i]\n",
    "    y = deputies_fractions[i]\n",
    "    choises[x,y]+=1\n",
    "    plt.scatter(x, y, c=colors[int(deputies_fractions[i])])"
   ]
  },
  {
   "cell_type": "code",
   "execution_count": 53,
   "metadata": {},
   "outputs": [
    {
     "name": "stdout",
     "output_type": "stream",
     "text": [
      "[[ 0.  0.  0.  0.  0.  0.  0.  0.  0.]\n",
      " [ 6.  8. 20.  1.  0.  2.  1.  0.  0.]\n",
      " [ 7. 72. 73.  0.  0.  1.  0.  2.  0.]\n",
      " [ 4.  0.  2. 25.  0.  0.  0.  0.  0.]\n",
      " [ 2.  0.  0.  0. 43.  0.  0.  0.  0.]\n",
      " [ 1.  0.  2.  0.  0. 21.  0.  0.  0.]\n",
      " [11.  0. 10.  0.  0.  0. 20.  0.  0.]\n",
      " [ 1.  4. 26.  1.  0.  0.  0.  0.  0.]\n",
      " [11.  9. 25.  0.  0.  2.  1. 19. 25.]]\n",
      "<class 'numpy.ndarray'>\n"
     ]
    }
   ],
   "source": [
    "choises_=np.delete(choises, 9, 0)\n",
    "choises_=np.delete(choises_, 7, 0)\n",
    "choises_=np.delete(choises_, 9, 1)\n",
    "choises_=np.delete(choises_, 7, 1)\n",
    "print(choises_)\n",
    "print(type(choises_))"
   ]
  },
  {
   "cell_type": "code",
   "execution_count": 54,
   "metadata": {
    "scrolled": true
   },
   "outputs": [
    {
     "data": {
      "text/plain": [
       "<matplotlib.axes._subplots.AxesSubplot at 0x7fe096c2f128>"
      ]
     },
     "execution_count": 54,
     "metadata": {},
     "output_type": "execute_result"
    },
    {
     "data": {
      "image/png": "[encoded data removed]",
      "text/plain": [
       "<Figure size 720x504 with 2 Axes>"
      ]
     },
     "metadata": {
      "needs_background": "light"
     },
     "output_type": "display_data"
    }
   ],
   "source": [
    "df_cm = pd.DataFrame(choises_, index = ['cluster '+str(i) for i in range(9)],\n",
    "                  columns = ['fraction '+str(i)+\" \" for i in range(9)])\n",
    "plt.figure(figsize = (10,7))\n",
    "sn.heatmap(df_cm, annot=True)"
   ]
  },
  {
   "cell_type": "code",
   "execution_count": 55,
   "metadata": {},
   "outputs": [
    {
     "name": "stdout",
     "output_type": "stream",
     "text": [
      "0.7832709928224169\n"
     ]
    }
   ],
   "source": [
    "correct=0\n",
    "for i in range(len(U)):\n",
    "    for j in range(len(U)):\n",
    "        if (clusters[i]==clusters[j] and deputies_fractions[i]==deputies_fractions[j]):\n",
    "            correct+=1\n",
    "        if (clusters[i]!=clusters[j] and deputies_fractions[i]!=deputies_fractions[j]):\n",
    "            correct+=1\n",
    "print(correct/(len(U)*(len(U)-1)))"
   ]
  },
  {
   "cell_type": "markdown",
   "metadata": {},
   "source": [
    "## NMF for 3 fractions"
   ]
  },
  {
   "cell_type": "code",
   "execution_count": 56,
   "metadata": {},
   "outputs": [
    {
     "data": {
      "text/plain": [
       "(3, 467)"
      ]
     },
     "execution_count": 56,
     "metadata": {},
     "output_type": "execute_result"
    }
   ],
   "source": [
    "clf = decomposition.NMF(n_components=3, random_state=1)\n",
    "\n",
    "W1 = clf.fit_transform(df)\n",
    "H1 = clf.components_\n",
    "\n",
    "H1.shape"
   ]
  },
  {
   "cell_type": "code",
   "execution_count": 57,
   "metadata": {},
   "outputs": [],
   "source": [
    "clusters=[list(H1[:,i]).index(max(H1[:,i])) for i in range(H1.shape[1])]"
   ]
  },
  {
   "cell_type": "code",
   "execution_count": 58,
   "metadata": {},
   "outputs": [
    {
     "data": {
      "text/plain": [
       "0.0"
      ]
     },
     "execution_count": 58,
     "metadata": {},
     "output_type": "execute_result"
    }
   ],
   "source": [
    "s = (3,11)\n",
    "choises=np.zeros(s)\n",
    "choises[0,0]"
   ]
  },
  {
   "cell_type": "code",
   "execution_count": 59,
   "metadata": {},
   "outputs": [
    {
     "data": {
      "image/png": "[encoded data removed]",
      "text/plain": [
       "<Figure size 432x288 with 1 Axes>"
      ]
     },
     "metadata": {
      "needs_background": "light"
     },
     "output_type": "display_data"
    }
   ],
   "source": [
    "for i in range(len(U)):\n",
    "    x = clusters[i]\n",
    "    y = deputies_fractions[i]\n",
    "    choises[x,y]+=1\n",
    "    plt.scatter(x, y, c=colors[int(deputies_fractions[i])])"
   ]
  },
  {
   "cell_type": "code",
   "execution_count": 60,
   "metadata": {},
   "outputs": [
    {
     "name": "stdout",
     "output_type": "stream",
     "text": [
      "[[ 14.  69. 107.   0.  38.  13.   0.  13.  20.]\n",
      " [ 16.  22.  35.   1.   4.  12.   3.   7.   5.]\n",
      " [ 18.   2.  19.  26.   1.   1.  19.   2.   0.]]\n",
      "<class 'numpy.ndarray'>\n"
     ]
    }
   ],
   "source": [
    "choises_=np.delete(choises, 9, 1)\n",
    "choises_=np.delete(choises_, 7, 1)\n",
    "print(choises_)\n",
    "print(type(choises_))"
   ]
  },
  {
   "cell_type": "code",
   "execution_count": 61,
   "metadata": {},
   "outputs": [
    {
     "data": {
      "text/plain": [
       "<matplotlib.axes._subplots.AxesSubplot at 0x7fe098ff24e0>"
      ]
     },
     "execution_count": 61,
     "metadata": {},
     "output_type": "execute_result"
    },
    {
     "data": {
      "image/png": "[encoded data removed]",
      "text/plain": [
       "<Figure size 720x216 with 2 Axes>"
      ]
     },
     "metadata": {
      "needs_background": "light"
     },
     "output_type": "display_data"
    }
   ],
   "source": [
    "df_cm = pd.DataFrame(choises_, index = ['cluster '+str(i) for i in range(3)],\n",
    "                  columns = ['fraction '+str(i)+\" \" for i in range(9)])\n",
    "plt.figure(figsize = (10,3))\n",
    "sn.heatmap(df_cm, annot=True)"
   ]
  },
  {
   "cell_type": "code",
   "execution_count": 62,
   "metadata": {},
   "outputs": [
    {
     "name": "stdout",
     "output_type": "stream",
     "text": [
      "0.5862504710001746\n"
     ]
    }
   ],
   "source": [
    "correct=0\n",
    "for i in range(len(U)):\n",
    "    for j in range(len(U)):\n",
    "        if (clusters[i]==clusters[j] and deputies_fractions[i]==deputies_fractions[j]):\n",
    "            correct+=1\n",
    "        if (clusters[i]!=clusters[j] and deputies_fractions[i]!=deputies_fractions[j]):\n",
    "            correct+=1\n",
    "print(correct/(len(U)*(len(U)-1)))"
   ]
  },
  {
   "cell_type": "markdown",
   "metadata": {},
   "source": [
    "## PCA\n",
    "http://cs229.stanford.edu/notes/cs229-notes10.pdf\n",
    "    "
   ]
  },
  {
   "cell_type": "code",
   "execution_count": 63,
   "metadata": {},
   "outputs": [
    {
     "name": "stderr",
     "output_type": "stream",
     "text": [
      "/home/user/.pyenv/versions/3.5.6/lib/python3.5/site-packages/IPython/core/interactiveshell.py:2785: DtypeWarning: Columns (0) have mixed types. Specify dtype option on import or set low_memory=False.\n",
      "  interactivity=interactivity, compiler=compiler, result=result)\n"
     ]
    }
   ],
   "source": [
    "edges = pd.read_table(\"./all_withoutnull.csv\",index_col=0, encoding=\"utf-8\",sep=',')\n",
    "edges=edges.drop(['abscd'])\n",
    "#edges\n",
    "for i in range(len(deputies_fractions)):\n",
    "    k=sum(df[:,i])\n",
    "    if k==0:\n",
    "        print(edges.column.vales[i])\n",
    "for j in range(len(edges)):\n",
    "    k=sum(df[j,:])\n",
    "    if k==0:\n",
    "        print(j)\n",
    "    "
   ]
  },
  {
   "cell_type": "code",
   "execution_count": 64,
   "metadata": {},
   "outputs": [
    {
     "name": "stdout",
     "output_type": "stream",
     "text": [
      "(15556, 467)\n"
     ]
    },
    {
     "data": {
      "text/plain": [
       "array([[0, 0, 0, ..., 0, 0, 0],\n",
       "       [0, 0, 0, ..., 0, 0, 0],\n",
       "       [1, 0, 1, ..., 1, 1, 1],\n",
       "       ...,\n",
       "       [1, 1, 1, ..., 0, 0, 0],\n",
       "       [1, 1, 1, ..., 0, 0, 0],\n",
       "       [1, 1, 1, ..., 0, 0, 0]])"
      ]
     },
     "execution_count": 64,
     "metadata": {},
     "output_type": "execute_result"
    }
   ],
   "source": [
    "df_pca=edges.values\n",
    "for i in range(15556):\n",
    "    for j in range(467):\n",
    "        if (df_pca[i][j]==2):\n",
    "            df_pca[i][j]=-1\n",
    "        elif df_pca[i][j]==1:\n",
    "            df_pca[i][j]=1\n",
    "        else: df_pca[i][j]=0\n",
    "print(df_pca.shape)\n",
    "df_pca"
   ]
  },
  {
   "cell_type": "code",
   "execution_count": 65,
   "metadata": {},
   "outputs": [
    {
     "name": "stdout",
     "output_type": "stream",
     "text": [
      "\n",
      "Zero-mean matrix:\n"
     ]
    },
    {
     "data": {
      "text/plain": [
       "array([[-0.54769864, -0.59346876, -0.57321934, ..., -0.01799949,\n",
       "        -0.04204166, -0.01054256],\n",
       "       [-0.54769864, -0.59346876, -0.57321934, ..., -0.01799949,\n",
       "        -0.04204166, -0.01054256],\n",
       "       [ 0.45230136, -0.59346876,  0.42678066, ...,  0.98200051,\n",
       "         0.95795834,  0.98945744],\n",
       "       ...,\n",
       "       [ 0.45230136,  0.40653124,  0.42678066, ..., -0.01799949,\n",
       "        -0.04204166, -0.01054256],\n",
       "       [ 0.45230136,  0.40653124,  0.42678066, ..., -0.01799949,\n",
       "        -0.04204166, -0.01054256],\n",
       "       [ 0.45230136,  0.40653124,  0.42678066, ..., -0.01799949,\n",
       "        -0.04204166, -0.01054256]])"
      ]
     },
     "execution_count": 65,
     "metadata": {},
     "output_type": "execute_result"
    }
   ],
   "source": [
    "row_means = np.mean(df_pca, axis=0)\n",
    "#print(row_means)\n",
    "print(\"\\nZero-mean matrix:\")\n",
    "df_pca_normalized = df_pca - row_means\n",
    "df_pca_normalized"
   ]
  },
  {
   "cell_type": "code",
   "execution_count": 66,
   "metadata": {},
   "outputs": [
    {
     "name": "stdout",
     "output_type": "stream",
     "text": [
      "(467, 467)\n",
      "Empirical covariance matrix :\n"
     ]
    },
    {
     "data": {
      "text/plain": [
       "matrix([[3875.60761121, 1752.64618154, 1073.17125225, ...,   59.64438159,\n",
       "           61.80509128,   44.1774235 ],\n",
       "        [1752.64618154, 3951.09642582, 1156.0390846 , ...,  -19.17125225,\n",
       "          -27.12856776,  -17.32887632],\n",
       "        [1073.17125225, 1156.0390846 , 3877.60317562, ...,   83.49858575,\n",
       "           70.11455387,   38.9920288 ],\n",
       "        ...,\n",
       "        [  59.64438159,  -19.17125225,   83.49858575, ...,  300.960144  ,\n",
       "          249.22833633,  114.04808434],\n",
       "        [  61.80509128,  -27.12856776,   70.11455387, ...,  249.22833633,\n",
       "          656.50475701,  157.10516842],\n",
       "        [  44.1774235 ,  -17.32887632,   38.9920288 , ...,  114.04808434,\n",
       "          157.10516842,  188.27102083]])"
      ]
     },
     "execution_count": 66,
     "metadata": {},
     "output_type": "execute_result"
    }
   ],
   "source": [
    "C=np.matrix(df_pca_normalized).transpose()*np.matrix(df_pca_normalized)\n",
    "print(C.shape)\n",
    "print(\"Empirical covariance matrix :\")\n",
    "C"
   ]
  },
  {
   "cell_type": "code",
   "execution_count": 67,
   "metadata": {},
   "outputs": [
    {
     "name": "stdout",
     "output_type": "stream",
     "text": [
      "Eigenvalues:\n",
      "[275933.72872228  80519.05527416  54856.3805157   43478.52442308\n",
      "  29715.64552926  22498.57114215  15102.66764085  14545.02952342\n",
      "  13076.54526706  11540.15543275  10879.82545817  10306.5667732\n",
      "   8877.08385538   8465.70053447   7686.89994644   7385.73276224\n",
      "   7146.63083609   6870.32599848   6820.99473125   6468.9306356\n",
      "   6218.26516142   6073.04218613   6005.64981988   5729.77441812\n",
      "   5620.22069648   5498.28899894   5445.53613052   5351.48680301\n",
      "   5231.71965025   5149.13112313   5110.8939735    5022.05731887\n",
      "   4918.9395288    4885.02648794   4826.12138512   4708.55489545\n",
      "   4659.23711613   4618.84080639   4552.57508256   4498.41960535]\n",
      "Eigenvectors:\n",
      "[[ 0.06864691  0.01396696 -0.02517853 ...  0.00842258  0.00640981\n",
      "   0.00817381]\n",
      " [ 0.08090768  0.02340621  0.00450904 ...  0.01286883 -0.09324044\n",
      "   0.03033991]\n",
      " [ 0.05500868  0.02608918 -0.0064855  ...  0.00460768  0.00129636\n",
      "   0.04888784]\n",
      " ...\n",
      " [ 0.0017828   0.00320455 -0.00795783 ...  0.01239602  0.00248064\n",
      "  -0.01245441]\n",
      " [ 0.00032249  0.01386895 -0.01495404 ...  0.00187553  0.0068585\n",
      "  -0.01208879]\n",
      " [ 0.00123915  0.00239192 -0.00473774 ... -0.00175429  0.00169753\n",
      "   0.00184787]]\n"
     ]
    }
   ],
   "source": [
    "from numpy import linalg as LA\n",
    "\n",
    "w, v = LA.eig(C)\n",
    "print(\"Eigenvalues:\")\n",
    "print(w[0:40])\n",
    "print(\"Eigenvectors:\")\n",
    "print(v)"
   ]
  },
  {
   "cell_type": "code",
   "execution_count": 68,
   "metadata": {},
   "outputs": [
    {
     "data": {
      "text/plain": [
       "(467, 467)"
      ]
     },
     "execution_count": 68,
     "metadata": {},
     "output_type": "execute_result"
    }
   ],
   "source": [
    "v.shape"
   ]
  },
  {
   "cell_type": "code",
   "execution_count": 72,
   "metadata": {},
   "outputs": [
    {
     "name": "stdout",
     "output_type": "stream",
     "text": [
      "(15556,)\n"
     ]
    }
   ],
   "source": [
    "s = (15556,)\n",
    "Y1=np.zeros(s)\n",
    "print(Y1.shape)"
   ]
  },
  {
   "cell_type": "code",
   "execution_count": 73,
   "metadata": {},
   "outputs": [
    {
     "name": "stdout",
     "output_type": "stream",
     "text": [
      "<class 'numpy.float64'>\n",
      "<class 'numpy.ndarray'>\n"
     ]
    }
   ],
   "source": [
    "print(type(v[0,1]))\n",
    "print(type(df_pca_normalized[:,1]))"
   ]
  },
  {
   "cell_type": "code",
   "execution_count": 74,
   "metadata": {},
   "outputs": [
    {
     "name": "stdout",
     "output_type": "stream",
     "text": [
      "The variance along the first component\n",
      "0.6131148329331308\n",
      "The variance along the second component\n",
      "0.38882807295698424\n"
     ]
    }
   ],
   "source": [
    "for i in range(len(deputies)):\n",
    "    Y1+=v[0,i]*df_pca_normalized[:,i]\n",
    "#print(Y1)\n",
    "Y2=np.zeros(s)\n",
    "for i in range(len(deputies)):\n",
    "    Y2+=v[1,i]*df_pca_normalized[:,i]\n",
    "#print(Y2)\n",
    "print(\"The variance along the first component\")\n",
    "print(np.std(Y1))\n",
    "print(\"The variance along the second component\")\n",
    "print(np.std(Y2))"
   ]
  },
  {
   "cell_type": "code",
   "execution_count": 75,
   "metadata": {},
   "outputs": [
    {
     "name": "stdout",
     "output_type": "stream",
     "text": [
      "[-0.84056034 -0.9297729  -0.01448281 ...  1.34913216  1.27240651\n",
      "  1.00328583]\n"
     ]
    },
    {
     "data": {
      "text/plain": [
       "15556"
      ]
     },
     "execution_count": 75,
     "metadata": {},
     "output_type": "execute_result"
    }
   ],
   "source": [
    "print(Y1)\n",
    "len(Y1)"
   ]
  },
  {
   "cell_type": "code",
   "execution_count": 76,
   "metadata": {},
   "outputs": [
    {
     "data": {
      "image/png": "[encoded data removed]",
      "text/plain": [
       "<Figure size 432x288 with 1 Axes>"
      ]
     },
     "metadata": {
      "needs_background": "light"
     },
     "output_type": "display_data"
    }
   ],
   "source": [
    "colors = ['#630C3A', '#39C8C6', '#D3500C', '#FFB139', 'red', 'green', 'blue', 'black', 'gray', 'orange', 'yellow', 'rose']\n",
    "for i in range(len(deputies)):\n",
    "    x = v[i,0]\n",
    "    y = v[i,1]\n",
    "    plt.scatter(x, y, c=colors[int(deputies_fractions[i])])"
   ]
  },
  {
   "cell_type": "code",
   "execution_count": 77,
   "metadata": {},
   "outputs": [],
   "source": [
    "from pandas import DataFrame\n",
    "import matplotlib.pyplot as plt\n",
    "from mpl_toolkits.mplot3d import Axes3D"
   ]
  },
  {
   "cell_type": "code",
   "execution_count": 78,
   "metadata": {},
   "outputs": [
    {
     "data": {
      "text/html": [
       "<iframe id=\"igraph\" scrolling=\"no\" style=\"border:none;\" seamless=\"seamless\" src=\"https://plot.ly/~anastasykhab/2.embed\" height=\"525px\" width=\"100%\"></iframe>"
      ],
      "text/plain": [
       "<plotly.tools.PlotlyDisplay object>"
      ]
     },
     "execution_count": 78,
     "metadata": {},
     "output_type": "execute_result"
    }
   ],
   "source": [
    "import plotly \n",
    "plotly.tools.set_credentials_file(username='anastasykhab', api_key='1A5tXzke659VuNNyl0YF')\n",
    "import plotly.plotly as py\n",
    "import plotly.graph_objs as go\n",
    "\n",
    "x, y, z = (v[:,0], v[:,1], v[:,2])\n",
    "s=(len(deputies), 1 )\n",
    "c=np.zeros(s)\n",
    "for i in range(len(deputies)):\n",
    "    c[i,0]=int(deputies_fractions[i])\n",
    "trace1 = go.Scatter3d(\n",
    "    x=x,\n",
    "    y=y,\n",
    "    z=z,\n",
    "    mode='markers',\n",
    "    marker=dict(\n",
    "        size=5,\n",
    "        color=c, \n",
    "        colorbar=dict(\n",
    "                title='Colorbar'\n",
    "            ),# set color to an array/list of desired values\n",
    "        colorscale=[[0,'#e6194b'], [0.1,'#3cb44b'], [0.2, '#ffe119'], [0.3,'#4363d8'], [0.4,'#f58231'], \n",
    "                    [0.5,'#911eb4'], [0.6, '#46f0f0'], [0.7, '#f032e6'], [0.8,'#bcf60c'], \n",
    "                    [0.9, '#fabebe'],[1,'#008080']],  # choose a colorscale\n",
    "        opacity=0.8\n",
    "    )\n",
    ")\n",
    "\n",
    "data = [trace1]\n",
    "layout = go.Layout(\n",
    "    margin=dict(\n",
    "        l=0,\n",
    "        r=0,\n",
    "        b=0,\n",
    "        t=0\n",
    "    )\n",
    ")\n",
    "fig = go.Figure(data=data, layout=layout)\n",
    "py.iplot(fig, filename='3d-scatter-colorscale')\n",
    "\n",
    "\n"
   ]
  },
  {
   "cell_type": "code",
   "execution_count": 79,
   "metadata": {},
   "outputs": [
    {
     "data": {
      "text/plain": [
       "PCA(copy=True, iterated_power='auto', n_components=None, random_state=None,\n",
       "  svd_solver='auto', tol=0.0, whiten=False)"
      ]
     },
     "execution_count": 79,
     "metadata": {},
     "output_type": "execute_result"
    }
   ],
   "source": [
    "from sklearn import decomposition\n",
    "pca = decomposition.PCA()\n",
    "pca.fit(df_pca_normalized)"
   ]
  },
  {
   "cell_type": "code",
   "execution_count": 80,
   "metadata": {},
   "outputs": [],
   "source": [
    "#print(pca.explained_variance_)  "
   ]
  },
  {
   "cell_type": "code",
   "execution_count": 81,
   "metadata": {},
   "outputs": [
    {
     "data": {
      "text/plain": [
       "(15556, 3)"
      ]
     },
     "execution_count": 81,
     "metadata": {},
     "output_type": "execute_result"
    }
   ],
   "source": [
    "pca.n_components = 3\n",
    "df_pca_reduced = pca.fit_transform(df_pca_normalized)\n",
    "df_pca_reduced.shape"
   ]
  },
  {
   "cell_type": "code",
   "execution_count": 82,
   "metadata": {},
   "outputs": [
    {
     "data": {
      "text/plain": [
       "array([[ 7.69877053,  1.24879452, -0.51430799],\n",
       "       [ 7.4718291 ,  2.95074828,  1.1384467 ],\n",
       "       [ 0.79576579, -0.50485595, -1.3607198 ],\n",
       "       ...,\n",
       "       [-6.92106776, -2.92898272,  2.64179696],\n",
       "       [-6.69503129, -2.75546864,  3.11244029],\n",
       "       [-6.81120402, -4.16747651,  1.94616682]])"
      ]
     },
     "execution_count": 82,
     "metadata": {},
     "output_type": "execute_result"
    }
   ],
   "source": [
    "df_pca_reduced"
   ]
  },
  {
   "cell_type": "code",
   "execution_count": 83,
   "metadata": {},
   "outputs": [],
   "source": [
    "clusters_pca=np.zeros((len(deputies),1))\n",
    "for dep in range(len(deputies)):\n",
    "    #print(\"_________________________________________________________________\")\n",
    "    i=0\n",
    "    error=np.sqrt(sum((df_pca_reduced[:,0]-df_pca_normalized[:,dep])**2)/(467*w[0]))\n",
    "    for j in range(3):\n",
    "        error_j=np.sqrt(sum((df_pca_reduced[:,j]-df_pca_normalized[:,dep])**2)/(467*w[j]))\n",
    "        if (error_j<error):\n",
    "            i=j\n",
    "            error=error_j\n",
    "            #print(error)\n",
    "            #print(i)\n",
    "    clusters_pca[dep,0]=i      "
   ]
  },
  {
   "cell_type": "code",
   "execution_count": 85,
   "metadata": {},
   "outputs": [
    {
     "data": {
      "text/plain": [
       "array([[1.],\n",
       "       [1.],\n",
       "       [1.],\n",
       "       [1.],\n",
       "       [1.],\n",
       "       [1.],\n",
       "       [1.],\n",
       "       [1.],\n",
       "       [2.],\n",
       "       [2.],\n",
       "       [1.],\n",
       "       [1.],\n",
       "       [2.],\n",
       "       [0.],\n",
       "       [1.],\n",
       "       [0.],\n",
       "       [1.],\n",
       "       [0.],\n",
       "       [2.],\n",
       "       [0.],\n",
       "       [1.],\n",
       "       [2.],\n",
       "       [1.],\n",
       "       [0.],\n",
       "       [0.],\n",
       "       [0.],\n",
       "       [0.],\n",
       "       [2.],\n",
       "       [0.],\n",
       "       [1.],\n",
       "       [0.],\n",
       "       [1.],\n",
       "       [1.],\n",
       "       [1.],\n",
       "       [0.],\n",
       "       [0.],\n",
       "       [1.],\n",
       "       [2.],\n",
       "       [1.],\n",
       "       [0.],\n",
       "       [1.],\n",
       "       [1.],\n",
       "       [2.],\n",
       "       [0.],\n",
       "       [1.],\n",
       "       [0.],\n",
       "       [1.],\n",
       "       [2.],\n",
       "       [2.],\n",
       "       [1.],\n",
       "       [1.],\n",
       "       [1.],\n",
       "       [1.],\n",
       "       [1.],\n",
       "       [0.],\n",
       "       [1.],\n",
       "       [2.],\n",
       "       [2.],\n",
       "       [1.],\n",
       "       [1.],\n",
       "       [2.],\n",
       "       [2.],\n",
       "       [0.],\n",
       "       [0.],\n",
       "       [1.],\n",
       "       [2.],\n",
       "       [2.],\n",
       "       [1.],\n",
       "       [1.],\n",
       "       [0.],\n",
       "       [0.],\n",
       "       [1.],\n",
       "       [2.],\n",
       "       [2.],\n",
       "       [1.],\n",
       "       [0.],\n",
       "       [0.],\n",
       "       [0.],\n",
       "       [2.],\n",
       "       [2.],\n",
       "       [1.],\n",
       "       [1.],\n",
       "       [1.],\n",
       "       [2.],\n",
       "       [2.],\n",
       "       [2.],\n",
       "       [0.],\n",
       "       [1.],\n",
       "       [1.],\n",
       "       [1.],\n",
       "       [0.],\n",
       "       [2.],\n",
       "       [1.],\n",
       "       [1.],\n",
       "       [2.],\n",
       "       [1.],\n",
       "       [0.],\n",
       "       [2.],\n",
       "       [1.],\n",
       "       [1.],\n",
       "       [1.],\n",
       "       [1.],\n",
       "       [1.],\n",
       "       [1.],\n",
       "       [2.],\n",
       "       [0.],\n",
       "       [2.],\n",
       "       [1.],\n",
       "       [2.],\n",
       "       [1.],\n",
       "       [1.],\n",
       "       [0.],\n",
       "       [1.],\n",
       "       [1.],\n",
       "       [1.],\n",
       "       [0.],\n",
       "       [1.],\n",
       "       [2.],\n",
       "       [2.],\n",
       "       [1.],\n",
       "       [1.],\n",
       "       [2.],\n",
       "       [0.],\n",
       "       [1.],\n",
       "       [1.],\n",
       "       [1.],\n",
       "       [1.],\n",
       "       [1.],\n",
       "       [1.],\n",
       "       [1.],\n",
       "       [1.],\n",
       "       [1.],\n",
       "       [1.],\n",
       "       [1.],\n",
       "       [1.],\n",
       "       [0.],\n",
       "       [1.],\n",
       "       [1.],\n",
       "       [0.],\n",
       "       [1.],\n",
       "       [2.],\n",
       "       [1.],\n",
       "       [2.],\n",
       "       [1.],\n",
       "       [1.],\n",
       "       [1.],\n",
       "       [1.],\n",
       "       [1.],\n",
       "       [1.],\n",
       "       [1.],\n",
       "       [2.],\n",
       "       [1.],\n",
       "       [1.],\n",
       "       [0.],\n",
       "       [1.],\n",
       "       [1.],\n",
       "       [1.],\n",
       "       [2.],\n",
       "       [1.],\n",
       "       [1.],\n",
       "       [2.],\n",
       "       [2.],\n",
       "       [1.],\n",
       "       [1.],\n",
       "       [1.],\n",
       "       [1.],\n",
       "       [1.],\n",
       "       [1.],\n",
       "       [0.],\n",
       "       [2.],\n",
       "       [0.],\n",
       "       [0.],\n",
       "       [0.],\n",
       "       [1.],\n",
       "       [2.],\n",
       "       [2.],\n",
       "       [2.],\n",
       "       [1.],\n",
       "       [0.],\n",
       "       [2.],\n",
       "       [1.],\n",
       "       [2.],\n",
       "       [1.],\n",
       "       [1.],\n",
       "       [2.],\n",
       "       [2.],\n",
       "       [2.],\n",
       "       [1.],\n",
       "       [2.],\n",
       "       [1.],\n",
       "       [1.],\n",
       "       [2.],\n",
       "       [2.],\n",
       "       [1.],\n",
       "       [1.],\n",
       "       [2.],\n",
       "       [1.],\n",
       "       [2.],\n",
       "       [1.],\n",
       "       [2.],\n",
       "       [2.],\n",
       "       [1.],\n",
       "       [2.],\n",
       "       [1.],\n",
       "       [1.],\n",
       "       [1.],\n",
       "       [1.],\n",
       "       [2.],\n",
       "       [2.],\n",
       "       [1.],\n",
       "       [1.],\n",
       "       [1.],\n",
       "       [2.],\n",
       "       [1.],\n",
       "       [2.],\n",
       "       [1.],\n",
       "       [1.],\n",
       "       [1.],\n",
       "       [1.],\n",
       "       [2.],\n",
       "       [2.],\n",
       "       [1.],\n",
       "       [1.],\n",
       "       [1.],\n",
       "       [2.],\n",
       "       [1.],\n",
       "       [1.],\n",
       "       [1.],\n",
       "       [1.],\n",
       "       [2.],\n",
       "       [1.],\n",
       "       [2.],\n",
       "       [1.],\n",
       "       [1.],\n",
       "       [1.],\n",
       "       [1.],\n",
       "       [1.],\n",
       "       [1.],\n",
       "       [1.],\n",
       "       [2.],\n",
       "       [0.],\n",
       "       [2.],\n",
       "       [2.],\n",
       "       [1.],\n",
       "       [2.],\n",
       "       [2.],\n",
       "       [1.],\n",
       "       [2.],\n",
       "       [1.],\n",
       "       [0.],\n",
       "       [0.],\n",
       "       [0.],\n",
       "       [0.],\n",
       "       [0.],\n",
       "       [0.],\n",
       "       [1.],\n",
       "       [2.],\n",
       "       [1.],\n",
       "       [1.],\n",
       "       [1.],\n",
       "       [2.],\n",
       "       [1.],\n",
       "       [1.],\n",
       "       [1.],\n",
       "       [2.],\n",
       "       [2.],\n",
       "       [1.],\n",
       "       [0.],\n",
       "       [1.],\n",
       "       [2.],\n",
       "       [0.],\n",
       "       [1.],\n",
       "       [1.],\n",
       "       [1.],\n",
       "       [1.],\n",
       "       [2.],\n",
       "       [1.],\n",
       "       [2.],\n",
       "       [1.],\n",
       "       [2.],\n",
       "       [1.],\n",
       "       [2.],\n",
       "       [2.],\n",
       "       [2.],\n",
       "       [1.],\n",
       "       [2.],\n",
       "       [1.],\n",
       "       [2.],\n",
       "       [2.],\n",
       "       [2.],\n",
       "       [1.],\n",
       "       [1.],\n",
       "       [2.],\n",
       "       [2.],\n",
       "       [2.],\n",
       "       [2.],\n",
       "       [2.],\n",
       "       [1.],\n",
       "       [0.],\n",
       "       [0.],\n",
       "       [0.],\n",
       "       [0.],\n",
       "       [0.],\n",
       "       [0.],\n",
       "       [0.],\n",
       "       [0.],\n",
       "       [0.],\n",
       "       [2.],\n",
       "       [2.],\n",
       "       [2.],\n",
       "       [0.],\n",
       "       [0.],\n",
       "       [0.],\n",
       "       [2.],\n",
       "       [2.],\n",
       "       [0.],\n",
       "       [0.],\n",
       "       [0.],\n",
       "       [0.],\n",
       "       [2.],\n",
       "       [0.],\n",
       "       [0.],\n",
       "       [0.],\n",
       "       [0.],\n",
       "       [0.],\n",
       "       [0.],\n",
       "       [1.],\n",
       "       [0.],\n",
       "       [0.],\n",
       "       [0.],\n",
       "       [0.],\n",
       "       [0.],\n",
       "       [0.],\n",
       "       [0.],\n",
       "       [0.],\n",
       "       [0.],\n",
       "       [0.],\n",
       "       [1.],\n",
       "       [0.],\n",
       "       [0.],\n",
       "       [0.],\n",
       "       [0.],\n",
       "       [0.],\n",
       "       [0.],\n",
       "       [0.],\n",
       "       [2.],\n",
       "       [2.],\n",
       "       [0.],\n",
       "       [2.],\n",
       "       [2.],\n",
       "       [2.],\n",
       "       [2.],\n",
       "       [2.],\n",
       "       [2.],\n",
       "       [2.],\n",
       "       [2.],\n",
       "       [2.],\n",
       "       [2.],\n",
       "       [2.],\n",
       "       [2.],\n",
       "       [2.],\n",
       "       [2.],\n",
       "       [2.],\n",
       "       [2.],\n",
       "       [2.],\n",
       "       [2.],\n",
       "       [0.],\n",
       "       [2.],\n",
       "       [0.],\n",
       "       [2.],\n",
       "       [2.],\n",
       "       [2.],\n",
       "       [2.],\n",
       "       [0.],\n",
       "       [2.],\n",
       "       [2.],\n",
       "       [0.],\n",
       "       [2.],\n",
       "       [2.],\n",
       "       [0.],\n",
       "       [0.],\n",
       "       [2.],\n",
       "       [2.],\n",
       "       [1.],\n",
       "       [1.],\n",
       "       [2.],\n",
       "       [1.],\n",
       "       [0.],\n",
       "       [2.],\n",
       "       [0.],\n",
       "       [2.],\n",
       "       [2.],\n",
       "       [1.],\n",
       "       [0.],\n",
       "       [1.],\n",
       "       [0.],\n",
       "       [0.],\n",
       "       [0.],\n",
       "       [1.],\n",
       "       [2.],\n",
       "       [2.],\n",
       "       [2.],\n",
       "       [2.],\n",
       "       [0.],\n",
       "       [0.],\n",
       "       [1.],\n",
       "       [1.],\n",
       "       [2.],\n",
       "       [2.],\n",
       "       [1.],\n",
       "       [1.],\n",
       "       [2.],\n",
       "       [2.],\n",
       "       [1.],\n",
       "       [0.],\n",
       "       [1.],\n",
       "       [0.],\n",
       "       [2.],\n",
       "       [0.],\n",
       "       [2.],\n",
       "       [1.],\n",
       "       [1.],\n",
       "       [2.],\n",
       "       [1.],\n",
       "       [2.],\n",
       "       [1.],\n",
       "       [1.],\n",
       "       [1.],\n",
       "       [1.],\n",
       "       [1.],\n",
       "       [1.],\n",
       "       [2.],\n",
       "       [1.],\n",
       "       [2.],\n",
       "       [1.],\n",
       "       [1.],\n",
       "       [0.],\n",
       "       [0.],\n",
       "       [1.],\n",
       "       [1.],\n",
       "       [1.],\n",
       "       [1.],\n",
       "       [1.],\n",
       "       [1.],\n",
       "       [1.],\n",
       "       [1.],\n",
       "       [1.],\n",
       "       [1.],\n",
       "       [1.],\n",
       "       [1.],\n",
       "       [1.],\n",
       "       [1.],\n",
       "       [1.],\n",
       "       [0.],\n",
       "       [1.],\n",
       "       [1.],\n",
       "       [0.],\n",
       "       [1.],\n",
       "       [1.],\n",
       "       [1.],\n",
       "       [1.],\n",
       "       [1.],\n",
       "       [1.],\n",
       "       [1.],\n",
       "       [1.],\n",
       "       [1.],\n",
       "       [1.]])"
      ]
     },
     "execution_count": 85,
     "metadata": {},
     "output_type": "execute_result"
    }
   ],
   "source": [
    "clusters_pca"
   ]
  },
  {
   "cell_type": "code",
   "execution_count": 86,
   "metadata": {},
   "outputs": [
    {
     "data": {
      "image/png": "[encoded data removed]",
      "text/plain": [
       "<Figure size 432x288 with 1 Axes>"
      ]
     },
     "metadata": {
      "needs_background": "light"
     },
     "output_type": "display_data"
    }
   ],
   "source": [
    "s = (11,11)\n",
    "choises_pca=np.zeros(s)\n",
    "choises_pca[0,0]\n",
    "for i in range(len(U)):\n",
    "    x = int(clusters_pca[i])\n",
    "    y = deputies_fractions[i]\n",
    "    choises_pca[x,y]+=1\n",
    "    plt.scatter(x, y, c=colors[int(deputies_fractions[i])])  "
   ]
  },
  {
   "cell_type": "code",
   "execution_count": 87,
   "metadata": {
    "scrolled": false
   },
   "outputs": [
    {
     "data": {
      "text/plain": [
       "<matplotlib.axes._subplots.AxesSubplot at 0x7fe08de652b0>"
      ]
     },
     "execution_count": 87,
     "metadata": {},
     "output_type": "execute_result"
    },
    {
     "data": {
      "image/png": "[encoded data removed]",
      "text/plain": [
       "<Figure size 720x504 with 2 Axes>"
      ]
     },
     "metadata": {
      "needs_background": "light"
     },
     "output_type": "display_data"
    }
   ],
   "source": [
    "df_pca_cm = pd.DataFrame(choises_pca, index = ['cluster '+str(i) for i in range(11)],\n",
    "                  columns = ['fraction '+str(i) for i in range(11)])\n",
    "plt.figure(figsize = (10,7))\n",
    "sn.heatmap(df_pca_cm, annot=True)"
   ]
  },
  {
   "cell_type": "markdown",
   "metadata": {},
   "source": [
    "<img src=\"2.png\" align=\"center\"  alt=\"Drawing\" />"
   ]
  },
  {
   "cell_type": "code",
   "execution_count": 88,
   "metadata": {},
   "outputs": [
    {
     "data": {
      "text/plain": [
       "(15556, 11)"
      ]
     },
     "execution_count": 88,
     "metadata": {},
     "output_type": "execute_result"
    }
   ],
   "source": [
    "pca.n_components = 11\n",
    "df_pca_reduced = pca.fit_transform(df_pca_normalized)\n",
    "df_pca_reduced.shape"
   ]
  },
  {
   "cell_type": "code",
   "execution_count": 91,
   "metadata": {},
   "outputs": [],
   "source": [
    "clusters_pca=np.zeros((len(deputies),1))\n",
    "for dep in range(len(deputies)):\n",
    "    #print(\"_________________________________________________________________\")\n",
    "    i=0\n",
    "    error=np.sqrt(sum((df_pca_reduced[:,0]-df_pca_normalized[:,dep])**2)/(467*w[0]))\n",
    "    for j in range(11):\n",
    "        error_j=np.sqrt(sum((df_pca_reduced[:,j]-df_pca_normalized[:,dep])**2)/(467*w[j]))\n",
    "        if (error_j<error):\n",
    "            i=j\n",
    "            error=error_j\n",
    "            #print(error)\n",
    "            #print(i)\n",
    "    clusters_pca[dep,0]=i   "
   ]
  },
  {
   "cell_type": "code",
   "execution_count": 92,
   "metadata": {},
   "outputs": [
    {
     "data": {
      "image/png": "[encoded data removed]",
      "text/plain": [
       "<Figure size 432x288 with 1 Axes>"
      ]
     },
     "metadata": {
      "needs_background": "light"
     },
     "output_type": "display_data"
    }
   ],
   "source": [
    "s = (11,11)\n",
    "choises_pca=np.zeros(s)\n",
    "choises_pca[0,0]\n",
    "for i in range(len(U)):\n",
    "    x = int(clusters_pca[i])\n",
    "    y = deputies_fractions[i]\n",
    "    choises_pca[x,y]+=1\n",
    "    plt.scatter(x, y, c=colors[int(deputies_fractions[i])])  "
   ]
  },
  {
   "cell_type": "code",
   "execution_count": 93,
   "metadata": {},
   "outputs": [
    {
     "data": {
      "text/plain": [
       "<matplotlib.axes._subplots.AxesSubplot at 0x7fe08d7c9710>"
      ]
     },
     "execution_count": 93,
     "metadata": {},
     "output_type": "execute_result"
    },
    {
     "data": {
      "image/png": "[encoded data removed]",
      "text/plain": [
       "<Figure size 720x504 with 2 Axes>"
      ]
     },
     "metadata": {
      "needs_background": "light"
     },
     "output_type": "display_data"
    }
   ],
   "source": [
    "df_pca_cm = pd.DataFrame(choises_pca, index = ['cluster '+str(i) for i in range(11)],\n",
    "                  columns = ['fraction '+str(i) for i in range(11)])\n",
    "plt.figure(figsize = (10,7))\n",
    "sn.heatmap(df_pca_cm, annot=True)"
   ]
  },
  {
   "cell_type": "markdown",
   "metadata": {},
   "source": [
    "## SPECTRAL CLUSTERING\n",
    "http://papers.nips.cc/paper/2092-on-spectral-clustering-analysis-and-an-algorithm.pdf\n",
    "https://scikit-learn.org/stable/modules/generated/sklearn.cluster.SpectralClustering.html\n",
    "\n",
    "https://arxiv.org/pdf/0711.0189.pdf\n",
    "\n",
    "One  standard  approach  is  based  on  generative  models,  in  which  algorithms  such  as  EM  are  used  to  learn  a  mixture  density.  These  approaches  suffer  from  several  drawbacks.  First,  to  use  parametric  density  est imators,  harsh  simplifying  assumptions  usually  need  to  be  made  (e.g.,  that  the  density  of  each  cluster  is  Gaussian) .  Second ,  the  log  likelihood  can  have  many  local  minima  and  therefore  multiple  restarts  are  required  to  find  a  go\n",
    "Many  empirical  successes  of  spectral  clustering  methods cluster  points  using  eigenvectors  of  matrices  derived  from  the  data. But, many  of  these  algorithms  have  no  proof  that  they  will  actually  compute  a  reasonable  clustering.  \n",
    "This  spectral  clustering  algorithm  works using  tools  from  matrix  perturbation  theory.\n",
    "\n",
    "<img src=\"1.png\" align=\"center\"  alt=\"Drawing\" />"
   ]
  },
  {
   "cell_type": "code",
   "execution_count": 94,
   "metadata": {},
   "outputs": [
    {
     "name": "stderr",
     "output_type": "stream",
     "text": [
      "/home/user/.pyenv/versions/3.5.6/lib/python3.5/site-packages/IPython/core/interactiveshell.py:2785: DtypeWarning:\n",
      "\n",
      "Columns (0) have mixed types. Specify dtype option on import or set low_memory=False.\n",
      "\n"
     ]
    }
   ],
   "source": [
    "edges_spec = pd.read_table(\"./all_withoutnull.csv\",index_col=0, encoding=\"utf-8\",sep=',')\n",
    "edges_spec =edges_spec .drop(['abscd'])\n",
    "#edges_spec "
   ]
  },
  {
   "cell_type": "code",
   "execution_count": 95,
   "metadata": {},
   "outputs": [
    {
     "name": "stdout",
     "output_type": "stream",
     "text": [
      "(467, 15556)\n"
     ]
    },
    {
     "data": {
      "text/plain": [
       "array([[ 0,  0,  0,  0,  0,  0,  0,  0,  1,  1,  1,  1,  0,  1],\n",
       "       [ 0,  1,  1,  1,  1,  1,  1,  1,  0,  1,  1,  1,  0,  0],\n",
       "       [ 0,  0,  1,  1,  1,  1,  1,  0,  1,  1,  0,  1,  0,  1],\n",
       "       [ 1,  0,  0,  0,  0,  0,  1,  0,  1,  1,  1,  1,  0,  1],\n",
       "       [ 0,  0,  0,  1,  1,  1,  1,  0,  1,  0,  0,  0,  0,  0],\n",
       "       [ 0,  1,  1,  1,  0,  0,  1,  0,  1,  1,  1,  1,  1,  1],\n",
       "       [ 0,  0,  0,  0,  0,  0,  0,  0,  0,  1,  1,  0,  0,  0],\n",
       "       [ 0,  0,  1,  1,  1,  1,  1,  1,  1,  0,  0,  1,  0,  0],\n",
       "       [ 0,  0,  0,  0,  0,  0,  0,  0,  0,  0,  0,  0,  0,  0],\n",
       "       [ 0,  0,  1,  0,  0,  0,  0,  1,  0,  1,  1,  1,  0,  0],\n",
       "       [ 0,  1,  1,  1,  1,  1,  1,  1,  1,  1,  1,  1,  1,  1],\n",
       "       [ 0,  0,  0,  0,  0,  0,  0,  0,  0,  0,  0,  0,  0,  0],\n",
       "       [ 0,  0,  0,  0,  0,  0,  0,  0,  0,  1,  0,  0, -1,  0],\n",
       "       [ 0,  0,  0,  1,  1,  1,  0,  0,  0,  0,  0,  0,  0,  0]])"
      ]
     },
     "execution_count": 95,
     "metadata": {},
     "output_type": "execute_result"
    }
   ],
   "source": [
    "df_spec=edges_spec.values.transpose()\n",
    "for i in range(467):\n",
    "    for j in range(15556):\n",
    "        if (df_spec[i][j]==2):\n",
    "            df_spec[i][j]=-1\n",
    "        elif df_spec[i][j]==1:\n",
    "            df_spec[i][j]=1\n",
    "        else: df_spec[i][j]=0\n",
    "print(df_spec.shape)\n",
    "df_spec[1:15,1:15]"
   ]
  },
  {
   "cell_type": "code",
   "execution_count": 96,
   "metadata": {},
   "outputs": [],
   "source": [
    "#np.exp(-d(df_spec,df_spec) ** 2)"
   ]
  },
  {
   "cell_type": "code",
   "execution_count": 97,
   "metadata": {},
   "outputs": [
    {
     "name": "stderr",
     "output_type": "stream",
     "text": [
      "/home/user/.pyenv/versions/3.5.6/lib/python3.5/site-packages/sklearn/manifold/spectral_embedding_.py:234: UserWarning:\n",
      "\n",
      "Graph is not fully connected, spectral embedding may not work as expected.\n",
      "\n"
     ]
    },
    {
     "data": {
      "text/plain": [
       "array([ 5,  7,  5,  5,  5,  5,  5,  7,  1,  5,  7,  5,  5,  8, 10,  6, 10,\n",
       "        1,  1,  1,  1,  1,  5,  7,  5,  5,  5,  5,  5,  5,  5,  7,  5,  5,\n",
       "        0,  5,  5,  5,  8,  7,  0,  5,  5, 10,  5,  5,  0,  6,  0,  5,  5,\n",
       "        5,  1,  6,  0,  6,  5,  0,  5,  0,  0,  0,  7,  6,  6,  5,  7,  0,\n",
       "        1,  6,  1,  5,  1,  5,  7,  5,  0,  0,  6,  0,  0,  5,  6,  5,  5,\n",
       "        0,  5,  6,  5,  1,  0,  5,  0,  7,  6,  0,  5,  6,  1,  0,  7,  6,\n",
       "        7,  8,  0,  5,  5,  5,  0,  8,  5,  1,  1,  0,  1,  5,  1,  5,  5,\n",
       "        5,  1,  5,  1,  5,  5,  5,  0,  0,  5,  0,  5,  5,  6,  0,  5,  5,\n",
       "        5,  7,  5,  5,  8,  5,  5,  1,  1,  7,  0,  8,  7,  1,  0,  1,  6,\n",
       "        7,  6,  7,  7,  5,  5, 10,  5,  5,  7,  1,  1,  7,  6,  5,  7,  0,\n",
       "        5,  6,  5,  0,  7,  6,  5,  8,  7,  5,  0,  5,  5,  0,  3,  4,  5,\n",
       "        5,  9,  0,  0,  6,  0,  1,  7,  5,  0,  6,  6,  5,  6,  1,  5,  0,\n",
       "        0, 10,  5,  5,  5,  1,  1,  6,  5,  6,  6,  7,  0,  5,  5,  7,  5,\n",
       "        8,  0,  7,  6,  1,  7,  6,  1,  7,  0,  0,  5,  6,  0,  5,  5,  5,\n",
       "        6,  5,  7,  6,  5,  0,  5,  3,  5,  5,  0,  5,  0,  7,  1,  7,  8,\n",
       "        0,  5,  5,  1,  0,  4,  0,  0,  1,  5,  1,  6,  5,  6,  5,  1,  7,\n",
       "        5,  1,  6,  8,  1,  7,  5,  7,  0,  5,  5,  5,  0,  5,  8,  5,  5,\n",
       "        5,  0,  6,  7,  0,  5,  6,  6,  1,  7,  7,  1,  7,  0,  6,  5,  6,\n",
       "        0, 10,  7,  6,  7,  6,  0, 10,  5,  0,  5,  5,  7,  5,  0,  5,  6,\n",
       "        5,  5,  5,  5,  7,  6,  0,  0,  5,  6,  7,  7,  5,  0,  5,  5,  0,\n",
       "        5,  0,  5,  6,  7,  6,  5,  0,  5,  7,  5,  6,  2,  5,  5,  5,  0,\n",
       "        0,  0,  1,  0,  8,  5,  5,  1,  5,  7,  5,  8,  7,  7,  0,  7,  5,\n",
       "        2,  5,  7,  1,  5,  5,  7,  5,  1,  5,  7,  1,  7,  0,  5,  0,  6,\n",
       "        5,  6,  7, 10,  1,  0,  5, 10,  0,  5,  1, 10,  7,  7,  5,  0,  0,\n",
       "        5,  0,  6,  5,  0,  6,  5,  0, 10, 10,  6,  5,  8,  7,  5,  6,  7,\n",
       "        5,  1, 10,  7,  0,  0,  5,  0,  7,  5,  5,  5,  0,  7,  5,  0,  7,\n",
       "        7,  6,  0,  5,  1,  7,  8,  1,  6,  1,  0,  6,  7,  0,  7, 10,  1,\n",
       "        7,  0,  5,  5,  5,  5,  5,  5], dtype=int32)"
      ]
     },
     "execution_count": 97,
     "metadata": {},
     "output_type": "execute_result"
    }
   ],
   "source": [
    "from sklearn.cluster import SpectralClustering\n",
    "clustering_1 = SpectralClustering(n_clusters=11,\n",
    "        assign_labels=\"kmeans\"\n",
    "                                ,random_state=0\n",
    "                               ).fit(df_spec)\n",
    "clustering_1.labels_"
   ]
  },
  {
   "cell_type": "code",
   "execution_count": 98,
   "metadata": {},
   "outputs": [
    {
     "data": {
      "text/plain": [
       "SpectralClustering(affinity='rbf', assign_labels='kmeans', coef0=1, degree=3,\n",
       "          eigen_solver=None, eigen_tol=0.0, gamma=1.0, kernel_params=None,\n",
       "          n_clusters=11, n_init=10, n_jobs=1, n_neighbors=10,\n",
       "          random_state=0)"
      ]
     },
     "execution_count": 98,
     "metadata": {},
     "output_type": "execute_result"
    }
   ],
   "source": [
    "clustering_1"
   ]
  },
  {
   "cell_type": "code",
   "execution_count": 99,
   "metadata": {},
   "outputs": [
    {
     "data": {
      "text/plain": [
       "467"
      ]
     },
     "execution_count": 99,
     "metadata": {},
     "output_type": "execute_result"
    }
   ],
   "source": [
    "len(clustering_1.labels_)"
   ]
  },
  {
   "cell_type": "code",
   "execution_count": 100,
   "metadata": {},
   "outputs": [],
   "source": [
    "clusters_spec=clustering_1.labels_\n",
    "#for i in range(len(deputies)):\n",
    "#    hghg=1\n",
    "#for i in range(len(deputies)):\n",
    "#    print(deputies[i],clusters_spec[i], deputies_fractions[i])"
   ]
  },
  {
   "cell_type": "code",
   "execution_count": 101,
   "metadata": {},
   "outputs": [
    {
     "data": {
      "image/png": "[encoded data removed]",
      "text/plain": [
       "<Figure size 432x288 with 1 Axes>"
      ]
     },
     "metadata": {
      "needs_background": "light"
     },
     "output_type": "display_data"
    }
   ],
   "source": [
    "s = (11,11)\n",
    "choises_spec=np.zeros(s)\n",
    "choises_spec[0,0]\n",
    "for i in range(len(U)):\n",
    "    x = int(clusters_spec[i])\n",
    "    y = deputies_fractions[i]\n",
    "    choises_spec[x,y]+=1\n",
    "    plt.scatter(x, y, c=colors[int(deputies_fractions[i])])  "
   ]
  },
  {
   "cell_type": "code",
   "execution_count": 102,
   "metadata": {},
   "outputs": [
    {
     "data": {
      "text/plain": [
       "<matplotlib.axes._subplots.AxesSubplot at 0x7fe0979930f0>"
      ]
     },
     "execution_count": 102,
     "metadata": {},
     "output_type": "execute_result"
    },
    {
     "data": {
      "image/png": "[encoded data removed]",
      "text/plain": [
       "<Figure size 720x504 with 2 Axes>"
      ]
     },
     "metadata": {
      "needs_background": "light"
     },
     "output_type": "display_data"
    }
   ],
   "source": [
    "df_spec_cm = pd.DataFrame(choises_spec, index = ['cluster '+str(i) for i in range(11)],\n",
    "                  columns = ['fraction '+str(i) for i in range(11)])\n",
    "plt.figure(figsize = (10,7))\n",
    "sn.heatmap(df_spec_cm, annot=True)"
   ]
  },
  {
   "cell_type": "code",
   "execution_count": 103,
   "metadata": {},
   "outputs": [
    {
     "name": "stderr",
     "output_type": "stream",
     "text": [
      "/home/user/.pyenv/versions/3.5.6/lib/python3.5/site-packages/IPython/core/interactiveshell.py:2785: DtypeWarning:\n",
      "\n",
      "Columns (0) have mixed types. Specify dtype option on import or set low_memory=False.\n",
      "\n"
     ]
    }
   ],
   "source": [
    "edges_spec = pd.read_table(\"./all_withoutnull.csv\",index_col=0, encoding=\"utf-8\",sep=',')\n",
    "edges_spec =edges_spec .drop(['abscd'])\n",
    "#edges_spec "
   ]
  },
  {
   "cell_type": "code",
   "execution_count": 104,
   "metadata": {},
   "outputs": [
    {
     "name": "stdout",
     "output_type": "stream",
     "text": [
      "(467, 15556)\n"
     ]
    }
   ],
   "source": [
    "df_spec=edges_spec.values.transpose()\n",
    "for i in range(467):\n",
    "    for j in range(15556):\n",
    "        if (df_spec[i][j]==2):\n",
    "            df_spec[i][j]=0\n",
    "        elif df_spec[i][j]==1:\n",
    "            df_spec[i][j]=1\n",
    "        else: df_spec[i][j]=0\n",
    "print(df_spec.shape)\n",
    "#df_spec[1:15,1:15]"
   ]
  },
  {
   "cell_type": "code",
   "execution_count": 105,
   "metadata": {},
   "outputs": [
    {
     "name": "stderr",
     "output_type": "stream",
     "text": [
      "/home/user/.pyenv/versions/3.5.6/lib/python3.5/site-packages/sklearn/manifold/spectral_embedding_.py:234: UserWarning:\n",
      "\n",
      "Graph is not fully connected, spectral embedding may not work as expected.\n",
      "\n"
     ]
    }
   ],
   "source": [
    "clustering_3 = SpectralClustering(n_clusters=11,\n",
    "        assign_labels=\"kmeans\"\n",
    "                                #,random_state=0\n",
    "                               ).fit(df_spec)\n",
    "#clustering_3.labels_"
   ]
  },
  {
   "cell_type": "code",
   "execution_count": 106,
   "metadata": {},
   "outputs": [],
   "source": [
    "clusters_spec=clustering_3.labels_"
   ]
  },
  {
   "cell_type": "code",
   "execution_count": 107,
   "metadata": {},
   "outputs": [
    {
     "data": {
      "image/png": "[encoded data removed]",
      "text/plain": [
       "<Figure size 432x288 with 1 Axes>"
      ]
     },
     "metadata": {
      "needs_background": "light"
     },
     "output_type": "display_data"
    }
   ],
   "source": [
    "s = (11,11)\n",
    "choises_spec=np.zeros(s)\n",
    "choises_spec[0,0]\n",
    "for i in range(len(U)):\n",
    "    x = int(clusters_spec[i])\n",
    "    y = deputies_fractions[i]\n",
    "    choises_spec[x,y]+=1\n",
    "    plt.scatter(x, y, c=colors[int(deputies_fractions[i])])  "
   ]
  },
  {
   "cell_type": "code",
   "execution_count": 108,
   "metadata": {},
   "outputs": [
    {
     "data": {
      "text/plain": [
       "<matplotlib.axes._subplots.AxesSubplot at 0x7fe08da92b00>"
      ]
     },
     "execution_count": 108,
     "metadata": {},
     "output_type": "execute_result"
    },
    {
     "data": {
      "image/png": "[encoded data removed]",
      "text/plain": [
       "<Figure size 720x504 with 2 Axes>"
      ]
     },
     "metadata": {
      "needs_background": "light"
     },
     "output_type": "display_data"
    }
   ],
   "source": [
    "df_spec_cm = pd.DataFrame(choises_spec, index = ['cluster '+str(i) for i in range(11)],\n",
    "                  columns = ['fraction '+str(i) for i in range(11)])\n",
    "plt.figure(figsize = (10,7))\n",
    "sn.heatmap(df_spec_cm, annot=True)"
   ]
  },
  {
   "cell_type": "code",
   "execution_count": null,
   "metadata": {},
   "outputs": [],
   "source": []
  },
  {
   "cell_type": "code",
   "execution_count": null,
   "metadata": {},
   "outputs": [],
   "source": []
  },
  {
   "cell_type": "code",
   "execution_count": null,
   "metadata": {},
   "outputs": [],
   "source": []
  },
  {
   "cell_type": "code",
   "execution_count": null,
   "metadata": {},
   "outputs": [],
   "source": []
  },
  {
   "cell_type": "code",
   "execution_count": null,
   "metadata": {},
   "outputs": [],
   "source": []
  }
 ],
 "metadata": {
  "kernelspec": {
   "display_name": "Python 3",
   "language": "python",
   "name": "python3"
  },
  "language_info": {
   "codemirror_mode": {
    "name": "ipython",
    "version": 3
   },
   "file_extension": ".py",
   "mimetype": "text/x-python",
   "name": "python",
   "nbconvert_exporter": "python",
   "pygments_lexer": "ipython3",
   "version": "3.5.6"
  }
 },
 "nbformat": 4,
 "nbformat_minor": 2
}
